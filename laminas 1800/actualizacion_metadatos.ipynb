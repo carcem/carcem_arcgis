{
 "cells": [
  {
   "cell_type": "markdown",
   "id": "d85954ba-bcd8-4ab1-81b2-c276d02d6d98",
   "metadata": {},
   "source": [
    "# Automatización de los detalles para items de ArcGis online"
   ]
  },
  {
   "cell_type": "markdown",
   "id": "6a9c4670-e34d-4bba-acc5-865d76295028",
   "metadata": {},
   "source": [
    "## uso de la API de arcgis para Python\n",
    "[Arcgis assistant](https://ago-assistant.esri.com/)"
   ]
  },
  {
   "cell_type": "code",
   "execution_count": 1,
   "id": "6fd69476-442c-4110-b38f-5f2cbdbeb9e8",
   "metadata": {},
   "outputs": [],
   "source": [
    "import arcgis\n",
    "from arcgis.gis import GIS\n",
    "import pandas as pd"
   ]
  },
  {
   "cell_type": "markdown",
   "id": "6da4c945-e8dc-4be9-81e6-9a9999b3c547",
   "metadata": {},
   "source": [
    "## conexión a ArcGIS online\n",
    "ejemplo de archivo `.env`\n",
    "```\n",
    "aol_key=this_is_a_key\n",
    "aol_username=username\n",
    "```"
   ]
  },
  {
   "cell_type": "code",
   "execution_count": 2,
   "id": "122748aa-f48e-406b-8395-1f59a1823d58",
   "metadata": {},
   "outputs": [],
   "source": [
    "env_path = \"../.env\"\n",
    "with open(env_path) as f:\n",
    "    env = {}\n",
    "    for line in f:\n",
    "        env_key, _val = line.split(\"=\")\n",
    "        env_value = _val.split(\"\\n\")[0]\n",
    "        env[env_key] = env_value\n",
    "aol_password = env['aol_key']\n",
    "aol_username = env['aol_username']"
   ]
  },
  {
   "cell_type": "code",
   "execution_count": 3,
   "id": "c2b702c0-0d11-4300-a813-e08d594bd67e",
   "metadata": {},
   "outputs": [],
   "source": [
    "gis = GIS(\"https://carcem.maps.arcgis.com/\", aol_username, aol_password)"
   ]
  },
  {
   "cell_type": "markdown",
   "id": "7a30448e-1e76-4788-bf24-e1f6733e8f7b",
   "metadata": {},
   "source": [
    "## Resumen de proceso\n",
    "- load csv with information\n",
    "- use name of item to list items in org\n",
    "- join pd with item id and information from csv\n",
    "- update details"
   ]
  },
  {
   "cell_type": "code",
   "execution_count": 17,
   "id": "91583bbe-fb29-4d17-95c5-0ec6834f55a0",
   "metadata": {},
   "outputs": [
    {
     "name": "stdout",
     "output_type": "stream",
     "text": [
      "Láminas plano de 1800\n"
     ]
    }
   ],
   "source": [
    "grupos_lista = gis.groups.search('title:1800', max_groups=15)\n",
    "grupo = grupos_lista[0]\n",
    "print(grupo.title)"
   ]
  },
  {
   "cell_type": "code",
   "execution_count": 68,
   "id": "96153b82-a318-4b8c-a47a-23914025bfa3",
   "metadata": {},
   "outputs": [],
   "source": [
    "qe = f\"title: Plano Villa y Corte Madrid 1800 owner:alvaromolina type:'Map Service'\"\n",
    "group_content = gis.content.advanced_search(query=qe)\n",
    "#group_content['results']"
   ]
  },
  {
   "cell_type": "code",
   "execution_count": 65,
   "id": "95ca926c-4a95-4803-9393-4b1683955fea",
   "metadata": {},
   "outputs": [],
   "source": [
    "lam_dict = {}\n",
    "for item in group_content['results']:\n",
    "    lam_dict[item.id] = item.title\n",
    "        #print (f\"title: {item.title}, type: {item.type}, id: {item.id}\")"
   ]
  },
  {
   "cell_type": "code",
   "execution_count": 66,
   "id": "42e890b6-c303-4bc2-a800-e9cec763ba8b",
   "metadata": {},
   "outputs": [],
   "source": [
    "item_pub = pd.DataFrame.from_dict(lam_dict, orient='index')"
   ]
  },
  {
   "cell_type": "code",
   "execution_count": 67,
   "id": "8d2694ab-56dd-44a0-8255-16f26731a87e",
   "metadata": {},
   "outputs": [],
   "source": [
    "item_pub.to_csv(\"laminas_publicadas.csv\")"
   ]
  },
  {
   "cell_type": "code",
   "execution_count": 79,
   "id": "3d37eebf-35b2-4a4b-ab5b-64ebc1cbf398",
   "metadata": {},
   "outputs": [
    {
     "data": {
      "text/html": [
       "<div>\n",
       "<style scoped>\n",
       "    .dataframe tbody tr th:only-of-type {\n",
       "        vertical-align: middle;\n",
       "    }\n",
       "\n",
       "    .dataframe tbody tr th {\n",
       "        vertical-align: top;\n",
       "    }\n",
       "\n",
       "    .dataframe thead th {\n",
       "        text-align: right;\n",
       "    }\n",
       "</style>\n",
       "<table border=\"1\" class=\"dataframe\">\n",
       "  <thead>\n",
       "    <tr style=\"text-align: right;\">\n",
       "      <th></th>\n",
       "      <th>item_id</th>\n",
       "      <th>start_title</th>\n",
       "      <th>Nombre de la capa</th>\n",
       "      <th>Resumen</th>\n",
       "      <th>Etiquetas</th>\n",
       "      <th>Descripción</th>\n",
       "      <th>Términos de uso</th>\n",
       "      <th>Créditos</th>\n",
       "    </tr>\n",
       "  </thead>\n",
       "  <tbody>\n",
       "    <tr>\n",
       "      <th>0</th>\n",
       "      <td>278f9d34e0cf4dc59323d7124d86516c</td>\n",
       "      <td>Lámina 1. Barrio de las Descalzas Reales (Plan...</td>\n",
       "      <td>Lámina 1. Barrio de las Descalzas Reales (Plan...</td>\n",
       "      <td>Georreferenciación del \"Plano de la Villa y Co...</td>\n",
       "      <td>Madrid; siglo XIX; cartografía histórica; WMTS...</td>\n",
       "      <td>Servicio de mapa teselado de las 64 ilustracio...</td>\n",
       "      <td>&lt;a href=\"https://creativecommons.org/licenses/...</td>\n",
       "      <td>Autoría: Servicio WMTS creado por Álvaro Molin...</td>\n",
       "    </tr>\n",
       "    <tr>\n",
       "      <th>1</th>\n",
       "      <td>6deb0925eb2b45dda6b56b547cf5c075</td>\n",
       "      <td>02_Plano Villa y Corte Madrid 1800_Barrio de l...</td>\n",
       "      <td>Lámina 2. Barrio de los Ángeles (Plano de la V...</td>\n",
       "      <td>Georreferenciación del \"Plano de la Villa y Co...</td>\n",
       "      <td>Madrid; siglo XIX; cartografía histórica; WMTS...</td>\n",
       "      <td>Servicio de mapa teselado de las 64 ilustracio...</td>\n",
       "      <td>&lt;a href=\"https://creativecommons.org/licenses/...</td>\n",
       "      <td>Autoría: Servicio WMTS creado por Álvaro Molin...</td>\n",
       "    </tr>\n",
       "  </tbody>\n",
       "</table>\n",
       "</div>"
      ],
      "text/plain": [
       "                            item_id  \\\n",
       "0  278f9d34e0cf4dc59323d7124d86516c   \n",
       "1  6deb0925eb2b45dda6b56b547cf5c075   \n",
       "\n",
       "                                         start_title  \\\n",
       "0  Lámina 1. Barrio de las Descalzas Reales (Plan...   \n",
       "1  02_Plano Villa y Corte Madrid 1800_Barrio de l...   \n",
       "\n",
       "                                   Nombre de la capa  \\\n",
       "0  Lámina 1. Barrio de las Descalzas Reales (Plan...   \n",
       "1  Lámina 2. Barrio de los Ángeles (Plano de la V...   \n",
       "\n",
       "                                             Resumen  \\\n",
       "0  Georreferenciación del \"Plano de la Villa y Co...   \n",
       "1  Georreferenciación del \"Plano de la Villa y Co...   \n",
       "\n",
       "                                           Etiquetas  \\\n",
       "0  Madrid; siglo XIX; cartografía histórica; WMTS...   \n",
       "1  Madrid; siglo XIX; cartografía histórica; WMTS...   \n",
       "\n",
       "                                         Descripción  \\\n",
       "0  Servicio de mapa teselado de las 64 ilustracio...   \n",
       "1  Servicio de mapa teselado de las 64 ilustracio...   \n",
       "\n",
       "                                     Términos de uso  \\\n",
       "0  <a href=\"https://creativecommons.org/licenses/...   \n",
       "1  <a href=\"https://creativecommons.org/licenses/...   \n",
       "\n",
       "                                            Créditos  \n",
       "0  Autoría: Servicio WMTS creado por Álvaro Molin...  \n",
       "1  Autoría: Servicio WMTS creado por Álvaro Molin...  "
      ]
     },
     "execution_count": 79,
     "metadata": {},
     "output_type": "execute_result"
    }
   ],
   "source": [
    "metadatos = pd.read_csv(\"metadatos capas plano 1800-Table 1.csv\")\n",
    "metadatos.head(2)"
   ]
  },
  {
   "cell_type": "code",
   "execution_count": 90,
   "id": "b6f6ecfe-61ce-4867-b3cc-09dbab6a58e2",
   "metadata": {},
   "outputs": [
    {
     "data": {
      "text/html": [
       "<div>\n",
       "<style scoped>\n",
       "    .dataframe tbody tr th:only-of-type {\n",
       "        vertical-align: middle;\n",
       "    }\n",
       "\n",
       "    .dataframe tbody tr th {\n",
       "        vertical-align: top;\n",
       "    }\n",
       "\n",
       "    .dataframe thead th {\n",
       "        text-align: right;\n",
       "    }\n",
       "</style>\n",
       "<table border=\"1\" class=\"dataframe\">\n",
       "  <thead>\n",
       "    <tr style=\"text-align: right;\">\n",
       "      <th></th>\n",
       "      <th>item_id</th>\n",
       "      <th>start_title</th>\n",
       "      <th>Nombre de la capa</th>\n",
       "      <th>Resumen</th>\n",
       "      <th>Etiquetas</th>\n",
       "      <th>Descripción</th>\n",
       "      <th>Términos de uso</th>\n",
       "      <th>Créditos</th>\n",
       "    </tr>\n",
       "  </thead>\n",
       "  <tbody>\n",
       "    <tr>\n",
       "      <th>1</th>\n",
       "      <td>6deb0925eb2b45dda6b56b547cf5c075</td>\n",
       "      <td>02_Plano Villa y Corte Madrid 1800_Barrio de l...</td>\n",
       "      <td>Lámina 2. Barrio de los Ángeles (Plano de la V...</td>\n",
       "      <td>Georreferenciación del \"Plano de la Villa y Co...</td>\n",
       "      <td>Madrid; siglo XIX; cartografía histórica; WMTS...</td>\n",
       "      <td>Servicio de mapa teselado de las 64 ilustracio...</td>\n",
       "      <td>&lt;a href=\"https://creativecommons.org/licenses/...</td>\n",
       "      <td>Autoría: Servicio WMTS creado por Álvaro Molin...</td>\n",
       "    </tr>\n",
       "    <tr>\n",
       "      <th>2</th>\n",
       "      <td>cdc49bade49c411fb20c4c868cf05854</td>\n",
       "      <td>03_Plano Villa y Corte Madrid 1800_Barrio de S...</td>\n",
       "      <td>Lámina 3. Barrio San Gines (Plano de la Villa ...</td>\n",
       "      <td>Georreferenciación del \"Plano de la Villa y Co...</td>\n",
       "      <td>Madrid; siglo XIX; cartografía histórica; WMTS...</td>\n",
       "      <td>Servicio de mapa teselado de las 64 ilustracio...</td>\n",
       "      <td>&lt;a href=\"https://creativecommons.org/licenses/...</td>\n",
       "      <td>Autoría: Servicio WMTS creado por Álvaro Molin...</td>\n",
       "    </tr>\n",
       "  </tbody>\n",
       "</table>\n",
       "</div>"
      ],
      "text/plain": [
       "                            item_id  \\\n",
       "1  6deb0925eb2b45dda6b56b547cf5c075   \n",
       "2  cdc49bade49c411fb20c4c868cf05854   \n",
       "\n",
       "                                         start_title  \\\n",
       "1  02_Plano Villa y Corte Madrid 1800_Barrio de l...   \n",
       "2  03_Plano Villa y Corte Madrid 1800_Barrio de S...   \n",
       "\n",
       "                                   Nombre de la capa  \\\n",
       "1  Lámina 2. Barrio de los Ángeles (Plano de la V...   \n",
       "2  Lámina 3. Barrio San Gines (Plano de la Villa ...   \n",
       "\n",
       "                                             Resumen  \\\n",
       "1  Georreferenciación del \"Plano de la Villa y Co...   \n",
       "2  Georreferenciación del \"Plano de la Villa y Co...   \n",
       "\n",
       "                                           Etiquetas  \\\n",
       "1  Madrid; siglo XIX; cartografía histórica; WMTS...   \n",
       "2  Madrid; siglo XIX; cartografía histórica; WMTS...   \n",
       "\n",
       "                                         Descripción  \\\n",
       "1  Servicio de mapa teselado de las 64 ilustracio...   \n",
       "2  Servicio de mapa teselado de las 64 ilustracio...   \n",
       "\n",
       "                                     Términos de uso  \\\n",
       "1  <a href=\"https://creativecommons.org/licenses/...   \n",
       "2  <a href=\"https://creativecommons.org/licenses/...   \n",
       "\n",
       "                                            Créditos  \n",
       "1  Autoría: Servicio WMTS creado por Álvaro Molin...  \n",
       "2  Autoría: Servicio WMTS creado por Álvaro Molin...  "
      ]
     },
     "execution_count": 90,
     "metadata": {},
     "output_type": "execute_result"
    }
   ],
   "source": [
    "metadatos_1 = metadatos[1:]\n",
    "metadatos_1.head(2)"
   ]
  },
  {
   "cell_type": "code",
   "execution_count": 94,
   "id": "639d53a0-882e-49c5-b4b5-37d21d9f508c",
   "metadata": {},
   "outputs": [
    {
     "name": "stdout",
     "output_type": "stream",
     "text": [
      "Nombre de la capa: 02_Plano Villa y Corte Madrid 1800_Barrio de los Ángeles_jpg\n",
      "Resumen: Georreferenciación del \"Plano de la Villa y Corte de Madrid en sesenta y cuatro láminas […]\" publicado en 1800 (lámina 2). Fondos de la Biblioteca Nacional de España\n",
      "Descripción: \n",
      "new description: Servicio de mapa teselado de las 64 ilustraciones que componen la obra de Fausto Martínez de la Torre y Joseph Asensio Plano de la Villa y Corte de Madrid en sesenta y cuatro láminas, que demuestran otros tantos barrios en que está dividida, con los nombres de todas sus plazuelas y calles, números de las manzanas, y casas que comprehenden cada uno, con otras curiosidades útiles á los naturales y forasteros, Madrid, 1800, Imprenta de Don Joseph Doblado.\n",
      "Cada lámina representa las manzanas que componen el barrio correspondiente, señalando el número de cada una de ellas en grande. Las cifras de menor tamaño indican la numeración de las casas existentes en cada una de las manzanas.\n",
      "La publicación incluye la descripción y limitación de cada barrio y cuartel, el callejero con el nombre de las calles, plazas y plazuelas, y una relación de edificios y lugares de interés de distinta naturaleza (parroquias, anexos, conventos, iglesias, ermitas, colegios, hospitales, consejos, establecimientos, etc.)\n",
      "\n",
      "Acceso libre a la obra completa digitalizada (BNE): https://bdh-rd.bne.es/viewer.vm?id=0000001444\n",
      "Términos de uso: \n",
      "Créditos: \n",
      "Etiquetas: ['Madrid', 'siglo XIX', 'cartografía histórica', 'WMTS', 'HGIS']\n"
     ]
    }
   ],
   "source": [
    "for index, row in metadatos_1.iterrows():\n",
    "    my_item = gis.content.get(row[\"item_id\"])\n",
    "    print(f\"Nombre de la capa: {my_item.title}\")\n",
    "    print(f\"Resumen: {my_item.snippet}\")\n",
    "    print(f\"Descripción: {my_item.description}\")\n",
    "    print(f\"new description: {row['Descripción']}\")\n",
    "    print(f\"Términos de uso: {my_item.accessInformation}\")\n",
    "    print(f\"Créditos: {my_item.licenseInfo}\")\n",
    "    print(f\"Etiquetas: {my_item.tags}\")\n",
    "    break"
   ]
  },
  {
   "cell_type": "code",
   "execution_count": 96,
   "id": "abaaa735-6ad1-426a-869e-bdd96d43677c",
   "metadata": {
    "collapsed": true,
    "jupyter": {
     "outputs_hidden": true
    },
    "tags": []
   },
   "outputs": [
    {
     "ename": "TypeError",
     "evalue": "can only concatenate str (not \"float\") to str",
     "output_type": "error",
     "traceback": [
      "\u001b[0;31m---------------------------------------------------------------------------\u001b[0m",
      "\u001b[0;31mTypeError\u001b[0m                                 Traceback (most recent call last)",
      "\u001b[0;32m<ipython-input-96-d914dd05bda8>\u001b[0m in \u001b[0;36m<module>\u001b[0;34m\u001b[0m\n\u001b[1;32m      1\u001b[0m \u001b[0;32mfor\u001b[0m \u001b[0mindex\u001b[0m\u001b[0;34m,\u001b[0m \u001b[0mrow\u001b[0m \u001b[0;32min\u001b[0m \u001b[0mmetadatos_1\u001b[0m\u001b[0;34m.\u001b[0m\u001b[0miterrows\u001b[0m\u001b[0;34m(\u001b[0m\u001b[0;34m)\u001b[0m\u001b[0;34m:\u001b[0m\u001b[0;34m\u001b[0m\u001b[0;34m\u001b[0m\u001b[0m\n\u001b[0;32m----> 2\u001b[0;31m     \u001b[0mmy_item\u001b[0m \u001b[0;34m=\u001b[0m \u001b[0mgis\u001b[0m\u001b[0;34m.\u001b[0m\u001b[0mcontent\u001b[0m\u001b[0;34m.\u001b[0m\u001b[0mget\u001b[0m\u001b[0;34m(\u001b[0m\u001b[0mrow\u001b[0m\u001b[0;34m[\u001b[0m\u001b[0;34m\"item_id\"\u001b[0m\u001b[0;34m]\u001b[0m\u001b[0;34m)\u001b[0m\u001b[0;34m\u001b[0m\u001b[0;34m\u001b[0m\u001b[0m\n\u001b[0m\u001b[1;32m      3\u001b[0m     item_properties = {'description' : {row['Descripción']},\n\u001b[1;32m      4\u001b[0m                        \u001b[0;34m'licenseInfo'\u001b[0m \u001b[0;34m:\u001b[0m \u001b[0;34m{\u001b[0m\u001b[0mrow\u001b[0m\u001b[0;34m[\u001b[0m\u001b[0;34m'Créditos'\u001b[0m\u001b[0;34m]\u001b[0m\u001b[0;34m}\u001b[0m\u001b[0;34m,\u001b[0m\u001b[0;34m\u001b[0m\u001b[0;34m\u001b[0m\u001b[0m\n\u001b[1;32m      5\u001b[0m                        \u001b[0;34m'accessInformation'\u001b[0m \u001b[0;34m:\u001b[0m \u001b[0;34m{\u001b[0m\u001b[0mrow\u001b[0m\u001b[0;34m[\u001b[0m\u001b[0;34m'Términos de uso'\u001b[0m\u001b[0;34m]\u001b[0m\u001b[0;34m}\u001b[0m\u001b[0;34m,\u001b[0m\u001b[0;34m\u001b[0m\u001b[0;34m\u001b[0m\u001b[0m\n",
      "\u001b[0;32m/opt/homebrew/anaconda3/lib/python3.8/site-packages/arcgis/gis/__init__.py\u001b[0m in \u001b[0;36mget\u001b[0;34m(self, itemid)\u001b[0m\n\u001b[1;32m   5668\u001b[0m                 \u001b[0;32mreturn\u001b[0m \u001b[0;32mNone\u001b[0m\u001b[0;34m\u001b[0m\u001b[0;34m\u001b[0m\u001b[0m\n\u001b[1;32m   5669\u001b[0m             \u001b[0;32melse\u001b[0m\u001b[0;34m:\u001b[0m\u001b[0;34m\u001b[0m\u001b[0;34m\u001b[0m\u001b[0m\n\u001b[0;32m-> 5670\u001b[0;31m                 \u001b[0;32mraise\u001b[0m \u001b[0me\u001b[0m\u001b[0;34m\u001b[0m\u001b[0;34m\u001b[0m\u001b[0m\n\u001b[0m\u001b[1;32m   5671\u001b[0m \u001b[0;34m\u001b[0m\u001b[0m\n\u001b[1;32m   5672\u001b[0m         \u001b[0;32mif\u001b[0m \u001b[0mitem\u001b[0m \u001b[0;32mis\u001b[0m \u001b[0;32mnot\u001b[0m \u001b[0;32mNone\u001b[0m\u001b[0;34m:\u001b[0m\u001b[0;34m\u001b[0m\u001b[0;34m\u001b[0m\u001b[0m\n",
      "\u001b[0;32m/opt/homebrew/anaconda3/lib/python3.8/site-packages/arcgis/gis/__init__.py\u001b[0m in \u001b[0;36mget\u001b[0;34m(self, itemid)\u001b[0m\n\u001b[1;32m   5658\u001b[0m         \"\"\"\n\u001b[1;32m   5659\u001b[0m         \u001b[0;32mtry\u001b[0m\u001b[0;34m:\u001b[0m\u001b[0;34m\u001b[0m\u001b[0;34m\u001b[0m\u001b[0m\n\u001b[0;32m-> 5660\u001b[0;31m             \u001b[0mitem\u001b[0m \u001b[0;34m=\u001b[0m \u001b[0mself\u001b[0m\u001b[0;34m.\u001b[0m\u001b[0m_portal\u001b[0m\u001b[0;34m.\u001b[0m\u001b[0mget_item\u001b[0m\u001b[0;34m(\u001b[0m\u001b[0mitemid\u001b[0m\u001b[0;34m)\u001b[0m\u001b[0;34m\u001b[0m\u001b[0;34m\u001b[0m\u001b[0m\n\u001b[0m\u001b[1;32m   5661\u001b[0m         \u001b[0;32mexcept\u001b[0m \u001b[0mRuntimeError\u001b[0m \u001b[0;32mas\u001b[0m \u001b[0mre\u001b[0m\u001b[0;34m:\u001b[0m\u001b[0;34m\u001b[0m\u001b[0;34m\u001b[0m\u001b[0m\n\u001b[1;32m   5662\u001b[0m             \u001b[0;32mif\u001b[0m \u001b[0mre\u001b[0m\u001b[0;34m.\u001b[0m\u001b[0margs\u001b[0m\u001b[0;34m[\u001b[0m\u001b[0;36m0\u001b[0m\u001b[0;34m]\u001b[0m\u001b[0;34m.\u001b[0m\u001b[0m__contains__\u001b[0m\u001b[0;34m(\u001b[0m\u001b[0;34m\"Item does not exist or is inaccessible\"\u001b[0m\u001b[0;34m)\u001b[0m\u001b[0;34m:\u001b[0m\u001b[0;34m\u001b[0m\u001b[0;34m\u001b[0m\u001b[0m\n",
      "\u001b[0;32m/opt/homebrew/anaconda3/lib/python3.8/site-packages/arcgis/gis/_impl/_portalpy.py\u001b[0m in \u001b[0;36mget_item\u001b[0;34m(self, itemid)\u001b[0m\n\u001b[1;32m   1383\u001b[0m             \u001b[0;34m==\u001b[0m\u001b[0;34m==\u001b[0m\u001b[0;34m==\u001b[0m\u001b[0;34m==\u001b[0m\u001b[0;34m==\u001b[0m\u001b[0;34m==\u001b[0m\u001b[0;34m==\u001b[0m\u001b[0;34m==\u001b[0m  \u001b[0;34m==\u001b[0m\u001b[0;34m==\u001b[0m\u001b[0;34m==\u001b[0m\u001b[0;34m==\u001b[0m\u001b[0;34m==\u001b[0m\u001b[0;34m==\u001b[0m\u001b[0;34m==\u001b[0m\u001b[0;34m==\u001b[0m\u001b[0;34m==\u001b[0m\u001b[0;34m==\u001b[0m\u001b[0;34m==\u001b[0m\u001b[0;34m==\u001b[0m\u001b[0;34m==\u001b[0m\u001b[0;34m==\u001b[0m\u001b[0;34m==\u001b[0m\u001b[0;34m==\u001b[0m\u001b[0;34m==\u001b[0m\u001b[0;34m==\u001b[0m\u001b[0;34m==\u001b[0m\u001b[0;34m==\u001b[0m\u001b[0;34m==\u001b[0m\u001b[0;34m==\u001b[0m\u001b[0;34m==\u001b[0m\u001b[0;34m==\u001b[0m\u001b[0;34m==\u001b[0m\u001b[0;34m==\u001b[0m\u001b[0;34m==\u001b[0m\u001b[0;34m==\u001b[0m\u001b[0;34m\u001b[0m\u001b[0;34m\u001b[0m\u001b[0m\n\u001b[1;32m   1384\u001b[0m         \"\"\"\n\u001b[0;32m-> 1385\u001b[0;31m         \u001b[0;32mreturn\u001b[0m \u001b[0mself\u001b[0m\u001b[0;34m.\u001b[0m\u001b[0mcon\u001b[0m\u001b[0;34m.\u001b[0m\u001b[0mpost\u001b[0m\u001b[0;34m(\u001b[0m\u001b[0;34m\"content/items/\"\u001b[0m \u001b[0;34m+\u001b[0m \u001b[0mitemid\u001b[0m\u001b[0;34m,\u001b[0m \u001b[0mself\u001b[0m\u001b[0;34m.\u001b[0m\u001b[0m_postdata\u001b[0m\u001b[0;34m(\u001b[0m\u001b[0;34m)\u001b[0m\u001b[0;34m)\u001b[0m\u001b[0;34m\u001b[0m\u001b[0;34m\u001b[0m\u001b[0m\n\u001b[0m\u001b[1;32m   1386\u001b[0m \u001b[0;34m\u001b[0m\u001b[0m\n\u001b[1;32m   1387\u001b[0m     \u001b[0;32mdef\u001b[0m \u001b[0mget_item_data\u001b[0m\u001b[0;34m(\u001b[0m\u001b[0mself\u001b[0m\u001b[0;34m,\u001b[0m \u001b[0mitemid\u001b[0m\u001b[0;34m,\u001b[0m \u001b[0mtry_json\u001b[0m\u001b[0;34m=\u001b[0m\u001b[0;32mTrue\u001b[0m\u001b[0;34m,\u001b[0m \u001b[0mfolder\u001b[0m\u001b[0;34m=\u001b[0m\u001b[0;32mNone\u001b[0m\u001b[0;34m)\u001b[0m\u001b[0;34m:\u001b[0m\u001b[0;34m\u001b[0m\u001b[0;34m\u001b[0m\u001b[0m\n",
      "\u001b[0;31mTypeError\u001b[0m: can only concatenate str (not \"float\") to str"
     ]
    }
   ],
   "source": [
    "for index, row in metadatos_1.iterrows():\n",
    "    my_item = gis.content.get(row[\"item_id\"])\n",
    "    item_properties = {'description' : {row['Descripción']},\n",
    "                       'accessInformation' : {row['Créditos']},\n",
    "                       'licenseInfo' : {row['Términos de uso']},\n",
    "                       'title' : {row['Nombre de la capa']}\n",
    "                      }\n",
    "    my_item.update(item_properties)"
   ]
  },
  {
   "cell_type": "markdown",
   "id": "89156a92-6434-41ea-90bd-c42fe4b8c28c",
   "metadata": {},
   "source": [
    "## Arreglando el estilo de las urls en los créditos\n",
    "Usar la propiedad de la primera lámina que se ve bien. \n",
    "`accessInformation` y `licenseInfo` estaban invertidas.\n",
    "El error en la última linea de la tabla es porque se trata del servicio con todas las laminas a la vez."
   ]
  },
  {
   "cell_type": "code",
   "execution_count": 97,
   "id": "73f1eaa1-0aa5-4ce4-831d-fb7fc62c90ef",
   "metadata": {
    "collapsed": true,
    "jupyter": {
     "outputs_hidden": true
    },
    "tags": []
   },
   "outputs": [
    {
     "ename": "TypeError",
     "evalue": "can only concatenate str (not \"float\") to str",
     "output_type": "error",
     "traceback": [
      "\u001b[0;31m---------------------------------------------------------------------------\u001b[0m",
      "\u001b[0;31mTypeError\u001b[0m                                 Traceback (most recent call last)",
      "\u001b[0;32m<ipython-input-97-f5692cce922f>\u001b[0m in \u001b[0;36m<module>\u001b[0;34m\u001b[0m\n\u001b[1;32m      1\u001b[0m \u001b[0;32mfor\u001b[0m \u001b[0mindex\u001b[0m\u001b[0;34m,\u001b[0m \u001b[0mrow\u001b[0m \u001b[0;32min\u001b[0m \u001b[0mmetadatos_1\u001b[0m\u001b[0;34m.\u001b[0m\u001b[0miterrows\u001b[0m\u001b[0;34m(\u001b[0m\u001b[0;34m)\u001b[0m\u001b[0;34m:\u001b[0m\u001b[0;34m\u001b[0m\u001b[0;34m\u001b[0m\u001b[0m\n\u001b[0;32m----> 2\u001b[0;31m     \u001b[0mmy_item\u001b[0m \u001b[0;34m=\u001b[0m \u001b[0mgis\u001b[0m\u001b[0;34m.\u001b[0m\u001b[0mcontent\u001b[0m\u001b[0;34m.\u001b[0m\u001b[0mget\u001b[0m\u001b[0;34m(\u001b[0m\u001b[0mrow\u001b[0m\u001b[0;34m[\u001b[0m\u001b[0;34m\"item_id\"\u001b[0m\u001b[0;34m]\u001b[0m\u001b[0;34m)\u001b[0m\u001b[0;34m\u001b[0m\u001b[0;34m\u001b[0m\u001b[0m\n\u001b[0m\u001b[1;32m      3\u001b[0m     item_properties = {'accessInformation' : {row['Créditos']},\n\u001b[1;32m      4\u001b[0m                        \u001b[0;34m'licenseInfo'\u001b[0m \u001b[0;34m:\u001b[0m \u001b[0;34m{\u001b[0m\u001b[0mrow\u001b[0m\u001b[0;34m[\u001b[0m\u001b[0;34m'Términos de uso'\u001b[0m\u001b[0;34m]\u001b[0m\u001b[0;34m}\u001b[0m\u001b[0;34m,\u001b[0m\u001b[0;34m\u001b[0m\u001b[0;34m\u001b[0m\u001b[0m\n\u001b[1;32m      5\u001b[0m                       }\n",
      "\u001b[0;32m/opt/homebrew/anaconda3/lib/python3.8/site-packages/arcgis/gis/__init__.py\u001b[0m in \u001b[0;36mget\u001b[0;34m(self, itemid)\u001b[0m\n\u001b[1;32m   5668\u001b[0m                 \u001b[0;32mreturn\u001b[0m \u001b[0;32mNone\u001b[0m\u001b[0;34m\u001b[0m\u001b[0;34m\u001b[0m\u001b[0m\n\u001b[1;32m   5669\u001b[0m             \u001b[0;32melse\u001b[0m\u001b[0;34m:\u001b[0m\u001b[0;34m\u001b[0m\u001b[0;34m\u001b[0m\u001b[0m\n\u001b[0;32m-> 5670\u001b[0;31m                 \u001b[0;32mraise\u001b[0m \u001b[0me\u001b[0m\u001b[0;34m\u001b[0m\u001b[0;34m\u001b[0m\u001b[0m\n\u001b[0m\u001b[1;32m   5671\u001b[0m \u001b[0;34m\u001b[0m\u001b[0m\n\u001b[1;32m   5672\u001b[0m         \u001b[0;32mif\u001b[0m \u001b[0mitem\u001b[0m \u001b[0;32mis\u001b[0m \u001b[0;32mnot\u001b[0m \u001b[0;32mNone\u001b[0m\u001b[0;34m:\u001b[0m\u001b[0;34m\u001b[0m\u001b[0;34m\u001b[0m\u001b[0m\n",
      "\u001b[0;32m/opt/homebrew/anaconda3/lib/python3.8/site-packages/arcgis/gis/__init__.py\u001b[0m in \u001b[0;36mget\u001b[0;34m(self, itemid)\u001b[0m\n\u001b[1;32m   5658\u001b[0m         \"\"\"\n\u001b[1;32m   5659\u001b[0m         \u001b[0;32mtry\u001b[0m\u001b[0;34m:\u001b[0m\u001b[0;34m\u001b[0m\u001b[0;34m\u001b[0m\u001b[0m\n\u001b[0;32m-> 5660\u001b[0;31m             \u001b[0mitem\u001b[0m \u001b[0;34m=\u001b[0m \u001b[0mself\u001b[0m\u001b[0;34m.\u001b[0m\u001b[0m_portal\u001b[0m\u001b[0;34m.\u001b[0m\u001b[0mget_item\u001b[0m\u001b[0;34m(\u001b[0m\u001b[0mitemid\u001b[0m\u001b[0;34m)\u001b[0m\u001b[0;34m\u001b[0m\u001b[0;34m\u001b[0m\u001b[0m\n\u001b[0m\u001b[1;32m   5661\u001b[0m         \u001b[0;32mexcept\u001b[0m \u001b[0mRuntimeError\u001b[0m \u001b[0;32mas\u001b[0m \u001b[0mre\u001b[0m\u001b[0;34m:\u001b[0m\u001b[0;34m\u001b[0m\u001b[0;34m\u001b[0m\u001b[0m\n\u001b[1;32m   5662\u001b[0m             \u001b[0;32mif\u001b[0m \u001b[0mre\u001b[0m\u001b[0;34m.\u001b[0m\u001b[0margs\u001b[0m\u001b[0;34m[\u001b[0m\u001b[0;36m0\u001b[0m\u001b[0;34m]\u001b[0m\u001b[0;34m.\u001b[0m\u001b[0m__contains__\u001b[0m\u001b[0;34m(\u001b[0m\u001b[0;34m\"Item does not exist or is inaccessible\"\u001b[0m\u001b[0;34m)\u001b[0m\u001b[0;34m:\u001b[0m\u001b[0;34m\u001b[0m\u001b[0;34m\u001b[0m\u001b[0m\n",
      "\u001b[0;32m/opt/homebrew/anaconda3/lib/python3.8/site-packages/arcgis/gis/_impl/_portalpy.py\u001b[0m in \u001b[0;36mget_item\u001b[0;34m(self, itemid)\u001b[0m\n\u001b[1;32m   1383\u001b[0m             \u001b[0;34m==\u001b[0m\u001b[0;34m==\u001b[0m\u001b[0;34m==\u001b[0m\u001b[0;34m==\u001b[0m\u001b[0;34m==\u001b[0m\u001b[0;34m==\u001b[0m\u001b[0;34m==\u001b[0m\u001b[0;34m==\u001b[0m  \u001b[0;34m==\u001b[0m\u001b[0;34m==\u001b[0m\u001b[0;34m==\u001b[0m\u001b[0;34m==\u001b[0m\u001b[0;34m==\u001b[0m\u001b[0;34m==\u001b[0m\u001b[0;34m==\u001b[0m\u001b[0;34m==\u001b[0m\u001b[0;34m==\u001b[0m\u001b[0;34m==\u001b[0m\u001b[0;34m==\u001b[0m\u001b[0;34m==\u001b[0m\u001b[0;34m==\u001b[0m\u001b[0;34m==\u001b[0m\u001b[0;34m==\u001b[0m\u001b[0;34m==\u001b[0m\u001b[0;34m==\u001b[0m\u001b[0;34m==\u001b[0m\u001b[0;34m==\u001b[0m\u001b[0;34m==\u001b[0m\u001b[0;34m==\u001b[0m\u001b[0;34m==\u001b[0m\u001b[0;34m==\u001b[0m\u001b[0;34m==\u001b[0m\u001b[0;34m==\u001b[0m\u001b[0;34m==\u001b[0m\u001b[0;34m==\u001b[0m\u001b[0;34m==\u001b[0m\u001b[0;34m\u001b[0m\u001b[0;34m\u001b[0m\u001b[0m\n\u001b[1;32m   1384\u001b[0m         \"\"\"\n\u001b[0;32m-> 1385\u001b[0;31m         \u001b[0;32mreturn\u001b[0m \u001b[0mself\u001b[0m\u001b[0;34m.\u001b[0m\u001b[0mcon\u001b[0m\u001b[0;34m.\u001b[0m\u001b[0mpost\u001b[0m\u001b[0;34m(\u001b[0m\u001b[0;34m\"content/items/\"\u001b[0m \u001b[0;34m+\u001b[0m \u001b[0mitemid\u001b[0m\u001b[0;34m,\u001b[0m \u001b[0mself\u001b[0m\u001b[0;34m.\u001b[0m\u001b[0m_postdata\u001b[0m\u001b[0;34m(\u001b[0m\u001b[0;34m)\u001b[0m\u001b[0;34m)\u001b[0m\u001b[0;34m\u001b[0m\u001b[0;34m\u001b[0m\u001b[0m\n\u001b[0m\u001b[1;32m   1386\u001b[0m \u001b[0;34m\u001b[0m\u001b[0m\n\u001b[1;32m   1387\u001b[0m     \u001b[0;32mdef\u001b[0m \u001b[0mget_item_data\u001b[0m\u001b[0;34m(\u001b[0m\u001b[0mself\u001b[0m\u001b[0;34m,\u001b[0m \u001b[0mitemid\u001b[0m\u001b[0;34m,\u001b[0m \u001b[0mtry_json\u001b[0m\u001b[0;34m=\u001b[0m\u001b[0;32mTrue\u001b[0m\u001b[0;34m,\u001b[0m \u001b[0mfolder\u001b[0m\u001b[0;34m=\u001b[0m\u001b[0;32mNone\u001b[0m\u001b[0;34m)\u001b[0m\u001b[0;34m:\u001b[0m\u001b[0;34m\u001b[0m\u001b[0;34m\u001b[0m\u001b[0m\n",
      "\u001b[0;31mTypeError\u001b[0m: can only concatenate str (not \"float\") to str"
     ]
    }
   ],
   "source": [
    "for index, row in metadatos_1.iterrows():\n",
    "    my_item = gis.content.get(row[\"item_id\"])\n",
    "    item_properties = {'accessInformation' : {row['Créditos']},\n",
    "                       'licenseInfo' : {row['Términos de uso']},\n",
    "                      }\n",
    "    my_item.update(item_properties)"
   ]
  },
  {
   "cell_type": "markdown",
   "id": "874909aa-8860-4d29-9945-a5513a099750",
   "metadata": {},
   "source": [
    "# Arreglando el formato del resumen\n",
    "Usar las propiedades de la primera lámina que se hizo manualmente."
   ]
  },
  {
   "cell_type": "code",
   "execution_count": 17,
   "id": "aa241bf9-df2e-4bd4-b786-35f80910cb59",
   "metadata": {},
   "outputs": [
    {
     "name": "stdout",
     "output_type": "stream",
     "text": [
      "Láminas plano de 1800\n"
     ]
    }
   ],
   "source": [
    "grupos_lista = gis.groups.search('title:1800', max_groups=15)\n",
    "grupo = grupos_lista[0]\n",
    "print(grupo.title)"
   ]
  },
  {
   "cell_type": "code",
   "execution_count": 18,
   "id": "216450da-73a8-48a3-b0d7-3555c0c53098",
   "metadata": {},
   "outputs": [],
   "source": [
    "qe = f\"title: Plano Villa y Corte Madrid 1800 owner:alvaromolina type:'Map Service'\"\n",
    "group_content = gis.content.advanced_search(query=qe)\n",
    "#group_content['results']"
   ]
  },
  {
   "cell_type": "code",
   "execution_count": 19,
   "id": "ed4551e7-94ed-44cf-aad1-ce1f539e8f1c",
   "metadata": {},
   "outputs": [],
   "source": [
    "lam_dict = {}\n",
    "for item in group_content['results']:\n",
    "    lam_dict[item.id] = item.title\n",
    "    # print (f\"title: {item.title}, type: {item.type}, id: {item.id}\")"
   ]
  },
  {
   "cell_type": "code",
   "execution_count": 20,
   "id": "cb0373cd-615a-49a7-b541-169f3967fb6e",
   "metadata": {},
   "outputs": [],
   "source": [
    "template_id = '278f9d34e0cf4dc59323d7124d86516c'"
   ]
  },
  {
   "cell_type": "code",
   "execution_count": 21,
   "id": "b501bdad-7b6a-4e23-94bd-6ef6344a8116",
   "metadata": {},
   "outputs": [
    {
     "data": {
      "text/plain": [
       "'Lámina 1. Barrio de las Descalzas Reales (Plano de la Villa y Corte de Madrid, 1800)'"
      ]
     },
     "execution_count": 21,
     "metadata": {},
     "output_type": "execute_result"
    }
   ],
   "source": [
    "lam_dict[template_id]"
   ]
  },
  {
   "cell_type": "code",
   "execution_count": 27,
   "id": "c7aa998f-ce15-432c-b104-fa103387cfd0",
   "metadata": {},
   "outputs": [
    {
     "data": {
      "text/html": [
       "<div class=\"item_container\" style=\"height: auto; overflow: hidden; border: 1px solid #cfcfcf; border-radius: 2px; background: #f6fafa; line-height: 1.21429em; padding: 10px;\">\n",
       "                    <div class=\"item_left\" style=\"width: 210px; float: left;\">\n",
       "                       <a href='https://carcem.maps.arcgis.com/home/item.html?id=278f9d34e0cf4dc59323d7124d86516c' target='_blank'>\n",
       "                        <img src='data:image/png;base64,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' width='200' height='133' class=\"itemThumbnail\">\n",
       "                       </a>\n",
       "                    </div>\n",
       "\n",
       "                    <div class=\"item_right\"     style=\"float: none; width: auto; overflow: hidden;\">\n",
       "                        <a href='https://carcem.maps.arcgis.com/home/item.html?id=278f9d34e0cf4dc59323d7124d86516c' target='_blank'><b>Lámina 1. Barrio de las Descalzas Reales (Plano de la Villa y Corte de Madrid, 1800)</b>\n",
       "                        </a>\n",
       "                        <br/>Georreferenciación del \"Plano de la Villa y Corte de Madrid en sesenta y cuatro láminas […]\" publicado en 1800 (lámina 1). Fondos de la Biblioteca Nacional de España<img src='https://carcem.maps.arcgis.com/home/js/jsapi/esri/css/images/item_type_icons/mapimages16.png' style=\"vertical-align:middle;\">Map Image Layer by alvaromolina\n",
       "                        <br/>Last Modified: April 23, 2022\n",
       "                        <br/>0 comments, 11 views\n",
       "                    </div>\n",
       "                </div>\n",
       "                "
      ],
      "text/plain": [
       "<Item title:\"Lámina 1. Barrio de las Descalzas Reales (Plano de la Villa y Corte de Madrid, 1800)\" type:Map Image Layer owner:alvaromolina>"
      ]
     },
     "execution_count": 27,
     "metadata": {},
     "output_type": "execute_result"
    }
   ],
   "source": [
    "item_template = gis.content.get(template_id)\n",
    "item_template"
   ]
  },
  {
   "cell_type": "code",
   "execution_count": 28,
   "id": "a6d5a1c2-9e25-432c-8ce4-c05195a85a3c",
   "metadata": {},
   "outputs": [
    {
     "data": {
      "text/plain": [
       "\"Servicio de mapa teselado de las 64 ilustraciones que componen la obra de Fausto Martínez de la Torre y Joseph Asensio <span style='font-style:italic;'>Plano de la Villa y Corte de Madrid en sesenta y cuatro láminas, que demuestran otros tantos barrios en que está dividida, con los nombres de todas sus plazuelas y calles, números de las manzanas, y casas que comprehenden cada uno, con otras curiosidades útiles á los naturales y forasteros</span>, Madrid, 1800, Imprenta de Don Joseph Doblado.<br />Cada lámina representa las manzanas que componen el barrio correspondiente, señalando el número de cada una de ellas en grande. Las cifras de menor tamaño indican la numeración de las casas existentes en cada una de las manzanas.<br />La publicación incluye la descripción y limitación de cada barrio y cuartel, el callejero con el nombre de las calles, plazas y plazuelas, y una relación de edificios y lugares de interés de distinta naturaleza (parroquias, anexos, conventos, iglesias, ermitas, colegios, hospitales, consejos, establecimientos, etc.)<br /><br />Acceso libre a la obra completa digitalizada (BNE): <a href='https://bdh-rd.bne.es/viewer.vm?id=0000001444' target='_blank' rel='nofollow ugc noopener noreferrer'>https://bdh-rd.bne.es/viewer.vm?id=0000001444</a>\""
      ]
     },
     "execution_count": 28,
     "metadata": {},
     "output_type": "execute_result"
    }
   ],
   "source": [
    "item_template.description"
   ]
  },
  {
   "cell_type": "code",
   "execution_count": 26,
   "id": "65ba2918-fbfa-4410-bcc5-5d96b1c2ac4a",
   "metadata": {},
   "outputs": [
    {
     "data": {
      "text/html": [
       "<div>\n",
       "<style scoped>\n",
       "    .dataframe tbody tr th:only-of-type {\n",
       "        vertical-align: middle;\n",
       "    }\n",
       "\n",
       "    .dataframe tbody tr th {\n",
       "        vertical-align: top;\n",
       "    }\n",
       "\n",
       "    .dataframe thead th {\n",
       "        text-align: right;\n",
       "    }\n",
       "</style>\n",
       "<table border=\"1\" class=\"dataframe\">\n",
       "  <thead>\n",
       "    <tr style=\"text-align: right;\">\n",
       "      <th></th>\n",
       "      <th>item_id</th>\n",
       "      <th>start_title</th>\n",
       "      <th>Nombre de la capa</th>\n",
       "      <th>Resumen</th>\n",
       "      <th>Etiquetas</th>\n",
       "      <th>Descripción</th>\n",
       "      <th>Términos de uso</th>\n",
       "      <th>Créditos</th>\n",
       "    </tr>\n",
       "  </thead>\n",
       "  <tbody>\n",
       "    <tr>\n",
       "      <th>0</th>\n",
       "      <td>278f9d34e0cf4dc59323d7124d86516c</td>\n",
       "      <td>Lámina 1. Barrio de las Descalzas Reales (Plan...</td>\n",
       "      <td>Lámina 1. Barrio de las Descalzas Reales (Plan...</td>\n",
       "      <td>Georreferenciación del \"Plano de la Villa y Co...</td>\n",
       "      <td>Madrid; siglo XIX; cartografía histórica; WMTS...</td>\n",
       "      <td>Servicio de mapa teselado de las 64 ilustracio...</td>\n",
       "      <td>&lt;a href=\"https://creativecommons.org/licenses/...</td>\n",
       "      <td>Autoría: Servicio WMTS creado por Álvaro Molin...</td>\n",
       "    </tr>\n",
       "    <tr>\n",
       "      <th>1</th>\n",
       "      <td>6deb0925eb2b45dda6b56b547cf5c075</td>\n",
       "      <td>02_Plano Villa y Corte Madrid 1800_Barrio de l...</td>\n",
       "      <td>Lámina 2. Barrio de los Ángeles (Plano de la V...</td>\n",
       "      <td>Georreferenciación del \"Plano de la Villa y Co...</td>\n",
       "      <td>Madrid; siglo XIX; cartografía histórica; WMTS...</td>\n",
       "      <td>Servicio de mapa teselado de las 64 ilustracio...</td>\n",
       "      <td>&lt;a href=\"https://creativecommons.org/licenses/...</td>\n",
       "      <td>Autoría: Servicio WMTS creado por Álvaro Molin...</td>\n",
       "    </tr>\n",
       "  </tbody>\n",
       "</table>\n",
       "</div>"
      ],
      "text/plain": [
       "                            item_id  \\\n",
       "0  278f9d34e0cf4dc59323d7124d86516c   \n",
       "1  6deb0925eb2b45dda6b56b547cf5c075   \n",
       "\n",
       "                                         start_title  \\\n",
       "0  Lámina 1. Barrio de las Descalzas Reales (Plan...   \n",
       "1  02_Plano Villa y Corte Madrid 1800_Barrio de l...   \n",
       "\n",
       "                                   Nombre de la capa  \\\n",
       "0  Lámina 1. Barrio de las Descalzas Reales (Plan...   \n",
       "1  Lámina 2. Barrio de los Ángeles (Plano de la V...   \n",
       "\n",
       "                                             Resumen  \\\n",
       "0  Georreferenciación del \"Plano de la Villa y Co...   \n",
       "1  Georreferenciación del \"Plano de la Villa y Co...   \n",
       "\n",
       "                                           Etiquetas  \\\n",
       "0  Madrid; siglo XIX; cartografía histórica; WMTS...   \n",
       "1  Madrid; siglo XIX; cartografía histórica; WMTS...   \n",
       "\n",
       "                                         Descripción  \\\n",
       "0  Servicio de mapa teselado de las 64 ilustracio...   \n",
       "1  Servicio de mapa teselado de las 64 ilustracio...   \n",
       "\n",
       "                                     Términos de uso  \\\n",
       "0  <a href=\"https://creativecommons.org/licenses/...   \n",
       "1  <a href=\"https://creativecommons.org/licenses/...   \n",
       "\n",
       "                                            Créditos  \n",
       "0  Autoría: Servicio WMTS creado por Álvaro Molin...  \n",
       "1  Autoría: Servicio WMTS creado por Álvaro Molin...  "
      ]
     },
     "execution_count": 26,
     "metadata": {},
     "output_type": "execute_result"
    }
   ],
   "source": [
    "metadatos = pd.read_csv(\"metadatos capas plano 1800-Table 1.csv\")\n",
    "metadatos.head(2)"
   ]
  },
  {
   "cell_type": "code",
   "execution_count": 29,
   "id": "bb2809b2-9ea0-4426-81b4-2cba3af9d3a9",
   "metadata": {},
   "outputs": [
    {
     "data": {
      "text/html": [
       "<div>\n",
       "<style scoped>\n",
       "    .dataframe tbody tr th:only-of-type {\n",
       "        vertical-align: middle;\n",
       "    }\n",
       "\n",
       "    .dataframe tbody tr th {\n",
       "        vertical-align: top;\n",
       "    }\n",
       "\n",
       "    .dataframe thead th {\n",
       "        text-align: right;\n",
       "    }\n",
       "</style>\n",
       "<table border=\"1\" class=\"dataframe\">\n",
       "  <thead>\n",
       "    <tr style=\"text-align: right;\">\n",
       "      <th></th>\n",
       "      <th>item_id</th>\n",
       "      <th>start_title</th>\n",
       "      <th>Nombre de la capa</th>\n",
       "      <th>Resumen</th>\n",
       "      <th>Etiquetas</th>\n",
       "      <th>Descripción</th>\n",
       "      <th>Términos de uso</th>\n",
       "      <th>Créditos</th>\n",
       "    </tr>\n",
       "  </thead>\n",
       "  <tbody>\n",
       "    <tr>\n",
       "      <th>1</th>\n",
       "      <td>6deb0925eb2b45dda6b56b547cf5c075</td>\n",
       "      <td>02_Plano Villa y Corte Madrid 1800_Barrio de l...</td>\n",
       "      <td>Lámina 2. Barrio de los Ángeles (Plano de la V...</td>\n",
       "      <td>Georreferenciación del \"Plano de la Villa y Co...</td>\n",
       "      <td>Madrid; siglo XIX; cartografía histórica; WMTS...</td>\n",
       "      <td>Servicio de mapa teselado de las 64 ilustracio...</td>\n",
       "      <td>&lt;a href=\"https://creativecommons.org/licenses/...</td>\n",
       "      <td>Autoría: Servicio WMTS creado por Álvaro Molin...</td>\n",
       "    </tr>\n",
       "    <tr>\n",
       "      <th>2</th>\n",
       "      <td>cdc49bade49c411fb20c4c868cf05854</td>\n",
       "      <td>03_Plano Villa y Corte Madrid 1800_Barrio de S...</td>\n",
       "      <td>Lámina 3. Barrio San Gines (Plano de la Villa ...</td>\n",
       "      <td>Georreferenciación del \"Plano de la Villa y Co...</td>\n",
       "      <td>Madrid; siglo XIX; cartografía histórica; WMTS...</td>\n",
       "      <td>Servicio de mapa teselado de las 64 ilustracio...</td>\n",
       "      <td>&lt;a href=\"https://creativecommons.org/licenses/...</td>\n",
       "      <td>Autoría: Servicio WMTS creado por Álvaro Molin...</td>\n",
       "    </tr>\n",
       "  </tbody>\n",
       "</table>\n",
       "</div>"
      ],
      "text/plain": [
       "                            item_id  \\\n",
       "1  6deb0925eb2b45dda6b56b547cf5c075   \n",
       "2  cdc49bade49c411fb20c4c868cf05854   \n",
       "\n",
       "                                         start_title  \\\n",
       "1  02_Plano Villa y Corte Madrid 1800_Barrio de l...   \n",
       "2  03_Plano Villa y Corte Madrid 1800_Barrio de S...   \n",
       "\n",
       "                                   Nombre de la capa  \\\n",
       "1  Lámina 2. Barrio de los Ángeles (Plano de la V...   \n",
       "2  Lámina 3. Barrio San Gines (Plano de la Villa ...   \n",
       "\n",
       "                                             Resumen  \\\n",
       "1  Georreferenciación del \"Plano de la Villa y Co...   \n",
       "2  Georreferenciación del \"Plano de la Villa y Co...   \n",
       "\n",
       "                                           Etiquetas  \\\n",
       "1  Madrid; siglo XIX; cartografía histórica; WMTS...   \n",
       "2  Madrid; siglo XIX; cartografía histórica; WMTS...   \n",
       "\n",
       "                                         Descripción  \\\n",
       "1  Servicio de mapa teselado de las 64 ilustracio...   \n",
       "2  Servicio de mapa teselado de las 64 ilustracio...   \n",
       "\n",
       "                                     Términos de uso  \\\n",
       "1  <a href=\"https://creativecommons.org/licenses/...   \n",
       "2  <a href=\"https://creativecommons.org/licenses/...   \n",
       "\n",
       "                                            Créditos  \n",
       "1  Autoría: Servicio WMTS creado por Álvaro Molin...  \n",
       "2  Autoría: Servicio WMTS creado por Álvaro Molin...  "
      ]
     },
     "execution_count": 29,
     "metadata": {},
     "output_type": "execute_result"
    }
   ],
   "source": [
    "metadatos_1 = metadatos[1:]\n",
    "metadatos_1.head(2)"
   ]
  },
  {
   "cell_type": "code",
   "execution_count": 30,
   "id": "7c85d6d5-1748-4aaa-b7e7-a298186cabc2",
   "metadata": {},
   "outputs": [
    {
     "ename": "TypeError",
     "evalue": "can only concatenate str (not \"float\") to str",
     "output_type": "error",
     "traceback": [
      "\u001b[0;31m---------------------------------------------------------------------------\u001b[0m",
      "\u001b[0;31mTypeError\u001b[0m                                 Traceback (most recent call last)",
      "\u001b[0;32m<ipython-input-30-20e6ae3e76c9>\u001b[0m in \u001b[0;36m<module>\u001b[0;34m\u001b[0m\n\u001b[1;32m      1\u001b[0m \u001b[0;32mfor\u001b[0m \u001b[0mindex\u001b[0m\u001b[0;34m,\u001b[0m \u001b[0mrow\u001b[0m \u001b[0;32min\u001b[0m \u001b[0mmetadatos_1\u001b[0m\u001b[0;34m.\u001b[0m\u001b[0miterrows\u001b[0m\u001b[0;34m(\u001b[0m\u001b[0;34m)\u001b[0m\u001b[0;34m:\u001b[0m\u001b[0;34m\u001b[0m\u001b[0;34m\u001b[0m\u001b[0m\n\u001b[0;32m----> 2\u001b[0;31m     \u001b[0mmy_item\u001b[0m \u001b[0;34m=\u001b[0m \u001b[0mgis\u001b[0m\u001b[0;34m.\u001b[0m\u001b[0mcontent\u001b[0m\u001b[0;34m.\u001b[0m\u001b[0mget\u001b[0m\u001b[0;34m(\u001b[0m\u001b[0mrow\u001b[0m\u001b[0;34m[\u001b[0m\u001b[0;34m\"item_id\"\u001b[0m\u001b[0;34m]\u001b[0m\u001b[0;34m)\u001b[0m\u001b[0;34m\u001b[0m\u001b[0;34m\u001b[0m\u001b[0m\n\u001b[0m\u001b[1;32m      3\u001b[0m     item_properties = {'description' : {item_template.description},\n\u001b[1;32m      4\u001b[0m                        \u001b[0;34m'title'\u001b[0m \u001b[0;34m:\u001b[0m \u001b[0;34m{\u001b[0m\u001b[0mrow\u001b[0m\u001b[0;34m[\u001b[0m\u001b[0;34m'Nombre de la capa'\u001b[0m\u001b[0;34m]\u001b[0m\u001b[0;34m}\u001b[0m\u001b[0;34m\u001b[0m\u001b[0;34m\u001b[0m\u001b[0m\n\u001b[1;32m      5\u001b[0m                       }\n",
      "\u001b[0;32m/opt/homebrew/anaconda3/lib/python3.8/site-packages/arcgis/gis/__init__.py\u001b[0m in \u001b[0;36mget\u001b[0;34m(self, itemid)\u001b[0m\n\u001b[1;32m   5668\u001b[0m                 \u001b[0;32mreturn\u001b[0m \u001b[0;32mNone\u001b[0m\u001b[0;34m\u001b[0m\u001b[0;34m\u001b[0m\u001b[0m\n\u001b[1;32m   5669\u001b[0m             \u001b[0;32melse\u001b[0m\u001b[0;34m:\u001b[0m\u001b[0;34m\u001b[0m\u001b[0;34m\u001b[0m\u001b[0m\n\u001b[0;32m-> 5670\u001b[0;31m                 \u001b[0;32mraise\u001b[0m \u001b[0me\u001b[0m\u001b[0;34m\u001b[0m\u001b[0;34m\u001b[0m\u001b[0m\n\u001b[0m\u001b[1;32m   5671\u001b[0m \u001b[0;34m\u001b[0m\u001b[0m\n\u001b[1;32m   5672\u001b[0m         \u001b[0;32mif\u001b[0m \u001b[0mitem\u001b[0m \u001b[0;32mis\u001b[0m \u001b[0;32mnot\u001b[0m \u001b[0;32mNone\u001b[0m\u001b[0;34m:\u001b[0m\u001b[0;34m\u001b[0m\u001b[0;34m\u001b[0m\u001b[0m\n",
      "\u001b[0;32m/opt/homebrew/anaconda3/lib/python3.8/site-packages/arcgis/gis/__init__.py\u001b[0m in \u001b[0;36mget\u001b[0;34m(self, itemid)\u001b[0m\n\u001b[1;32m   5658\u001b[0m         \"\"\"\n\u001b[1;32m   5659\u001b[0m         \u001b[0;32mtry\u001b[0m\u001b[0;34m:\u001b[0m\u001b[0;34m\u001b[0m\u001b[0;34m\u001b[0m\u001b[0m\n\u001b[0;32m-> 5660\u001b[0;31m             \u001b[0mitem\u001b[0m \u001b[0;34m=\u001b[0m \u001b[0mself\u001b[0m\u001b[0;34m.\u001b[0m\u001b[0m_portal\u001b[0m\u001b[0;34m.\u001b[0m\u001b[0mget_item\u001b[0m\u001b[0;34m(\u001b[0m\u001b[0mitemid\u001b[0m\u001b[0;34m)\u001b[0m\u001b[0;34m\u001b[0m\u001b[0;34m\u001b[0m\u001b[0m\n\u001b[0m\u001b[1;32m   5661\u001b[0m         \u001b[0;32mexcept\u001b[0m \u001b[0mRuntimeError\u001b[0m \u001b[0;32mas\u001b[0m \u001b[0mre\u001b[0m\u001b[0;34m:\u001b[0m\u001b[0;34m\u001b[0m\u001b[0;34m\u001b[0m\u001b[0m\n\u001b[1;32m   5662\u001b[0m             \u001b[0;32mif\u001b[0m \u001b[0mre\u001b[0m\u001b[0;34m.\u001b[0m\u001b[0margs\u001b[0m\u001b[0;34m[\u001b[0m\u001b[0;36m0\u001b[0m\u001b[0;34m]\u001b[0m\u001b[0;34m.\u001b[0m\u001b[0m__contains__\u001b[0m\u001b[0;34m(\u001b[0m\u001b[0;34m\"Item does not exist or is inaccessible\"\u001b[0m\u001b[0;34m)\u001b[0m\u001b[0;34m:\u001b[0m\u001b[0;34m\u001b[0m\u001b[0;34m\u001b[0m\u001b[0m\n",
      "\u001b[0;32m/opt/homebrew/anaconda3/lib/python3.8/site-packages/arcgis/gis/_impl/_portalpy.py\u001b[0m in \u001b[0;36mget_item\u001b[0;34m(self, itemid)\u001b[0m\n\u001b[1;32m   1383\u001b[0m             \u001b[0;34m==\u001b[0m\u001b[0;34m==\u001b[0m\u001b[0;34m==\u001b[0m\u001b[0;34m==\u001b[0m\u001b[0;34m==\u001b[0m\u001b[0;34m==\u001b[0m\u001b[0;34m==\u001b[0m\u001b[0;34m==\u001b[0m  \u001b[0;34m==\u001b[0m\u001b[0;34m==\u001b[0m\u001b[0;34m==\u001b[0m\u001b[0;34m==\u001b[0m\u001b[0;34m==\u001b[0m\u001b[0;34m==\u001b[0m\u001b[0;34m==\u001b[0m\u001b[0;34m==\u001b[0m\u001b[0;34m==\u001b[0m\u001b[0;34m==\u001b[0m\u001b[0;34m==\u001b[0m\u001b[0;34m==\u001b[0m\u001b[0;34m==\u001b[0m\u001b[0;34m==\u001b[0m\u001b[0;34m==\u001b[0m\u001b[0;34m==\u001b[0m\u001b[0;34m==\u001b[0m\u001b[0;34m==\u001b[0m\u001b[0;34m==\u001b[0m\u001b[0;34m==\u001b[0m\u001b[0;34m==\u001b[0m\u001b[0;34m==\u001b[0m\u001b[0;34m==\u001b[0m\u001b[0;34m==\u001b[0m\u001b[0;34m==\u001b[0m\u001b[0;34m==\u001b[0m\u001b[0;34m==\u001b[0m\u001b[0;34m==\u001b[0m\u001b[0;34m\u001b[0m\u001b[0;34m\u001b[0m\u001b[0m\n\u001b[1;32m   1384\u001b[0m         \"\"\"\n\u001b[0;32m-> 1385\u001b[0;31m         \u001b[0;32mreturn\u001b[0m \u001b[0mself\u001b[0m\u001b[0;34m.\u001b[0m\u001b[0mcon\u001b[0m\u001b[0;34m.\u001b[0m\u001b[0mpost\u001b[0m\u001b[0;34m(\u001b[0m\u001b[0;34m\"content/items/\"\u001b[0m \u001b[0;34m+\u001b[0m \u001b[0mitemid\u001b[0m\u001b[0;34m,\u001b[0m \u001b[0mself\u001b[0m\u001b[0;34m.\u001b[0m\u001b[0m_postdata\u001b[0m\u001b[0;34m(\u001b[0m\u001b[0;34m)\u001b[0m\u001b[0;34m)\u001b[0m\u001b[0;34m\u001b[0m\u001b[0;34m\u001b[0m\u001b[0m\n\u001b[0m\u001b[1;32m   1386\u001b[0m \u001b[0;34m\u001b[0m\u001b[0m\n\u001b[1;32m   1387\u001b[0m     \u001b[0;32mdef\u001b[0m \u001b[0mget_item_data\u001b[0m\u001b[0;34m(\u001b[0m\u001b[0mself\u001b[0m\u001b[0;34m,\u001b[0m \u001b[0mitemid\u001b[0m\u001b[0;34m,\u001b[0m \u001b[0mtry_json\u001b[0m\u001b[0;34m=\u001b[0m\u001b[0;32mTrue\u001b[0m\u001b[0;34m,\u001b[0m \u001b[0mfolder\u001b[0m\u001b[0;34m=\u001b[0m\u001b[0;32mNone\u001b[0m\u001b[0;34m)\u001b[0m\u001b[0;34m:\u001b[0m\u001b[0;34m\u001b[0m\u001b[0;34m\u001b[0m\u001b[0m\n",
      "\u001b[0;31mTypeError\u001b[0m: can only concatenate str (not \"float\") to str"
     ]
    }
   ],
   "source": [
    "for index, row in metadatos_1.iterrows():\n",
    "    my_item = gis.content.get(row[\"item_id\"])\n",
    "    item_properties = {'description' : {item_template.description},\n",
    "                       'title' : {row['Nombre de la capa']}\n",
    "                      }\n",
    "    my_item.update(item_properties)"
   ]
  },
  {
   "cell_type": "code",
   "execution_count": null,
   "id": "87e054f4-27b5-44dc-aa7f-992c6be60c68",
   "metadata": {},
   "outputs": [],
   "source": []
  }
 ],
 "metadata": {
  "kernelspec": {
   "display_name": "Python 3",
   "language": "python",
   "name": "python3"
  },
  "language_info": {
   "codemirror_mode": {
    "name": "ipython",
    "version": 3
   },
   "file_extension": ".py",
   "mimetype": "text/x-python",
   "name": "python",
   "nbconvert_exporter": "python",
   "pygments_lexer": "ipython3",
   "version": "3.8.8"
  }
 },
 "nbformat": 4,
 "nbformat_minor": 5
}
