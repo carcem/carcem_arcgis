{
 "cells": [
  {
   "cell_type": "code",
   "execution_count": 4,
   "id": "fa428877-69df-492f-98dc-8f5f2e288aa9",
   "metadata": {},
   "outputs": [],
   "source": [
    "import arcgis\n",
    "from arcgis.gis import GIS\n",
    "import pandas as pd\n",
    "from arcgis import features\n",
    "import os"
   ]
  },
  {
   "cell_type": "code",
   "execution_count": 2,
   "id": "4a91ceed-73dc-45dd-b2e2-624c6eb197b2",
   "metadata": {},
   "outputs": [],
   "source": [
    "env_path = \"../.env\"\n",
    "with open(env_path) as f:\n",
    "    env = {}\n",
    "    for line in f:\n",
    "        env_key, _val = line.split(\"=\")\n",
    "        env_value = _val.split(\"\\n\")[0]\n",
    "        env[env_key] = env_value\n",
    "aol_password = env['aol_key']\n",
    "aol_username = env['aol_username']"
   ]
  },
  {
   "cell_type": "code",
   "execution_count": 3,
   "id": "7c2be2e0-61b8-4472-a0a2-f35ef5172bea",
   "metadata": {},
   "outputs": [],
   "source": [
    "gis = GIS(\"https://carcem.maps.arcgis.com/\", aol_username, aol_password)"
   ]
  },
  {
   "cell_type": "code",
   "execution_count": 26,
   "id": "0e5de37a",
   "metadata": {},
   "outputs": [],
   "source": [
    "csv_path = \"data/callejero_plano_long_table/long_table_todos.csv\""
   ]
  },
  {
   "cell_type": "code",
   "execution_count": 34,
   "id": "16f89e4e",
   "metadata": {},
   "outputs": [
    {
     "data": {
      "text/plain": [
       "(1052, 5)"
      ]
     },
     "execution_count": 34,
     "metadata": {},
     "output_type": "execute_result"
    }
   ],
   "source": [
    "d = pd.read_csv(csv_path)\n",
    "d.shape"
   ]
  },
  {
   "cell_type": "code",
   "execution_count": 33,
   "id": "66286f28",
   "metadata": {},
   "outputs": [],
   "source": [
    "d_para_manzanas = d[d.manzana.notnull()]\n",
    "d_para_coord = d[~d.manzana.notnull()]"
   ]
  },
  {
   "cell_type": "code",
   "execution_count": 45,
   "id": "f1e79ec9",
   "metadata": {},
   "outputs": [
    {
     "data": {
      "text/plain": [
       "Index(['tipo_toponimo', 'nombre_toponimo', 'coord', 'value', 'manzana'], dtype='object')"
      ]
     },
     "execution_count": 45,
     "metadata": {},
     "output_type": "execute_result"
    }
   ],
   "source": [
    "d_para_coord.columns"
   ]
  },
  {
   "cell_type": "code",
   "execution_count": 37,
   "id": "03f6c1df",
   "metadata": {},
   "outputs": [
    {
     "data": {
      "text/plain": [
       "(812, 5)"
      ]
     },
     "execution_count": 37,
     "metadata": {},
     "output_type": "execute_result"
    }
   ],
   "source": [
    "d_para_coord.shape"
   ]
  },
  {
   "cell_type": "code",
   "execution_count": 36,
   "id": "7b6d357a",
   "metadata": {},
   "outputs": [
    {
     "data": {
      "text/plain": [
       "(240, 5)"
      ]
     },
     "execution_count": 36,
     "metadata": {},
     "output_type": "execute_result"
    }
   ],
   "source": [
    "d_para_manzanas.shape"
   ]
  },
  {
   "cell_type": "code",
   "execution_count": 38,
   "id": "e81a9ac0",
   "metadata": {},
   "outputs": [],
   "source": [
    "d_para_manzanas_path = \"data/callejero_plano_long_table/d_para_manzanas.csv\"\n",
    "d_para_manzanas.to_csv(d_para_manzanas_path)\n",
    "csv_item = gis.content.add({}, d_para_manzanas_path)\n",
    "csv_lyr = csv_item.publish(publish_parameters={'locationType':'none', 'type':'csv'})\n",
    "table_lay = csv_lyr.tables[0]\n",
    "manzanas_item = gis.content.get(\"e8133fcb8f2447808d9e9f9ad63ef238\")\n",
    "manzanas_flayer = manzanas_item.layers[0]"
   ]
  },
  {
   "cell_type": "code",
   "execution_count": 39,
   "id": "4b8c88ea",
   "metadata": {},
   "outputs": [
    {
     "data": {
      "text/plain": [
       "0.858"
      ]
     },
     "execution_count": 39,
     "metadata": {},
     "output_type": "execute_result"
    }
   ],
   "source": [
    "# identificar el coste en créditos\n",
    "features.summarize_data.join_features(target_layer = manzanas_flayer, \n",
    "                                     join_layer = table_lay,\n",
    "                                     attribute_relationship = [{\"targetField\":\"Núm__de_manzana\",\n",
    "                                                                \"operator\":\"equal\",\n",
    "                                                                \"joinField\":\"manzana\"}],\n",
    "                                     join_operation = \"JoinOneToMany\",\n",
    "                                     output_name = \"toponimos_lopez_manzanas\",\n",
    "                                     estimate = True)"
   ]
  },
  {
   "cell_type": "code",
   "execution_count": 40,
   "id": "3a9cacdc",
   "metadata": {},
   "outputs": [
    {
     "name": "stderr",
     "output_type": "stream",
     "text": [
      "{\"cost\": 0.858}\n"
     ]
    }
   ],
   "source": [
    "union_flayer_manzanas = features.summarize_data.join_features(target_layer = manzanas_flayer, \n",
    "                                     join_layer = table_lay,\n",
    "                                     attribute_relationship = [{\"targetField\":\"Núm__de_manzana\",\n",
    "                                                                \"operator\":\"equal\",\n",
    "                                                                \"joinField\":\"manzana\"}],\n",
    "                                     join_operation = \"JoinOneToMany\",\n",
    "                                     output_name = \"toponimos_lopez_manzanas\",\n",
    "                                     estimate = False)"
   ]
  },
  {
   "cell_type": "code",
   "execution_count": 41,
   "id": "63064421",
   "metadata": {},
   "outputs": [
    {
     "data": {
      "text/html": [
       "<div class=\"item_container\" style=\"height: auto; overflow: hidden; border: 1px solid #cfcfcf; border-radius: 2px; background: #f6fafa; line-height: 1.21429em; padding: 10px;\">\n",
       "                    <div class=\"item_left\" style=\"width: 210px; float: left;\">\n",
       "                       <a href='https://carcem.maps.arcgis.com/home/item.html?id=156a95f3303b468cb0b114933fdbce87' target='_blank'>\n",
       "                        <img src='http://static.arcgis.com/images/desktopapp.png' class=\"itemThumbnail\">\n",
       "                       </a>\n",
       "                    </div>\n",
       "\n",
       "                    <div class=\"item_right\"     style=\"float: none; width: auto; overflow: hidden;\">\n",
       "                        <a href='https://carcem.maps.arcgis.com/home/item.html?id=156a95f3303b468cb0b114933fdbce87' target='_blank'><b>toponimos_lopez_manzanas</b>\n",
       "                        </a>\n",
       "                        <br/><img src='https://carcem.maps.arcgis.com/home/js/jsapi/esri/css/images/item_type_icons/featureshosted16.png' style=\"vertical-align:middle;\">Feature Layer Collection by greta_carcem\n",
       "                        <br/>Last Modified: December 30, 2022\n",
       "                        <br/>0 comments, 0 views\n",
       "                    </div>\n",
       "                </div>\n",
       "                "
      ],
      "text/plain": [
       "<Item title:\"toponimos_lopez_manzanas\" type:Feature Layer Collection owner:greta_carcem>"
      ]
     },
     "execution_count": 41,
     "metadata": {},
     "output_type": "execute_result"
    }
   ],
   "source": [
    "union_flayer_manzanas"
   ]
  },
  {
   "cell_type": "code",
   "execution_count": 42,
   "id": "745450b9",
   "metadata": {},
   "outputs": [],
   "source": [
    "d_para_coord_path = \"data/callejero_plano_long_table/d_para_coord.csv\"\n",
    "d_para_coord.to_csv(d_para_coord_path)\n",
    "csv_item = gis.content.add({}, d_para_coord_path)\n",
    "csv_lyr = csv_item.publish(publish_parameters={'locationType':'none', 'type':'csv'})\n",
    "table_lay = csv_lyr.tables[0]\n",
    "coord_item = gis.content.get(\"e183b559ce94420b957b315357eb4cb7\")\n",
    "coord_flayer = coord_item.layers[0]"
   ]
  },
  {
   "cell_type": "code",
   "execution_count": 46,
   "id": "6e61b87e",
   "metadata": {},
   "outputs": [
    {
     "data": {
      "text/plain": [
       "0.957"
      ]
     },
     "execution_count": 46,
     "metadata": {},
     "output_type": "execute_result"
    }
   ],
   "source": [
    "# identificar el coste en créditos\n",
    "features.summarize_data.join_features(target_layer = coord_flayer, \n",
    "                                     join_layer = table_lay,\n",
    "                                     attribute_relationship = [{\"targetField\":\"coordenada\",\n",
    "                                                                \"operator\":\"equal\",\n",
    "                                                                \"joinField\":\"coord\"}],\n",
    "                                     join_operation = \"JoinOneToMany\",\n",
    "                                     output_name = \"toponimos_lopez_coord\",\n",
    "                                     estimate = True)"
   ]
  },
  {
   "cell_type": "code",
   "execution_count": 47,
   "id": "4dbf1293",
   "metadata": {},
   "outputs": [
    {
     "name": "stderr",
     "output_type": "stream",
     "text": [
      "{\"cost\": 0.957}\n"
     ]
    }
   ],
   "source": [
    "union_flayer_coord = features.summarize_data.join_features(target_layer = coord_flayer, \n",
    "                                     join_layer = table_lay,\n",
    "                                     attribute_relationship = [{\"targetField\":\"coordenada\",\n",
    "                                                                \"operator\":\"equal\",\n",
    "                                                                \"joinField\":\"coord\"}],\n",
    "                                     join_operation = \"JoinOneToMany\",\n",
    "                                     output_name = \"toponimos_lopez_coord\",\n",
    "                                     estimate = False)"
   ]
  },
  {
   "cell_type": "code",
   "execution_count": 48,
   "id": "27162616",
   "metadata": {},
   "outputs": [
    {
     "data": {
      "text/html": [
       "<div class=\"item_container\" style=\"height: auto; overflow: hidden; border: 1px solid #cfcfcf; border-radius: 2px; background: #f6fafa; line-height: 1.21429em; padding: 10px;\">\n",
       "                    <div class=\"item_left\" style=\"width: 210px; float: left;\">\n",
       "                       <a href='https://carcem.maps.arcgis.com/home/item.html?id=87bd26a00eab4b9a95ccca84a42aeea1' target='_blank'>\n",
       "                        <img src='http://static.arcgis.com/images/desktopapp.png' class=\"itemThumbnail\">\n",
       "                       </a>\n",
       "                    </div>\n",
       "\n",
       "                    <div class=\"item_right\"     style=\"float: none; width: auto; overflow: hidden;\">\n",
       "                        <a href='https://carcem.maps.arcgis.com/home/item.html?id=87bd26a00eab4b9a95ccca84a42aeea1' target='_blank'><b>toponimos_lopez_coord</b>\n",
       "                        </a>\n",
       "                        <br/><img src='https://carcem.maps.arcgis.com/home/js/jsapi/esri/css/images/item_type_icons/featureshosted16.png' style=\"vertical-align:middle;\">Feature Layer Collection by greta_carcem\n",
       "                        <br/>Last Modified: December 30, 2022\n",
       "                        <br/>0 comments, 0 views\n",
       "                    </div>\n",
       "                </div>\n",
       "                "
      ],
      "text/plain": [
       "<Item title:\"toponimos_lopez_coord\" type:Feature Layer Collection owner:greta_carcem>"
      ]
     },
     "execution_count": 48,
     "metadata": {},
     "output_type": "execute_result"
    }
   ],
   "source": [
    "union_flayer_coord"
   ]
  },
  {
   "cell_type": "markdown",
   "id": "f3319a05",
   "metadata": {},
   "source": [
    "## Fusión de los dos servicios"
   ]
  },
  {
   "cell_type": "code",
   "execution_count": 51,
   "id": "2d126933",
   "metadata": {},
   "outputs": [
    {
     "data": {
      "text/plain": [
       "1.09"
      ]
     },
     "execution_count": 51,
     "metadata": {},
     "output_type": "execute_result"
    }
   ],
   "source": [
    "# identificar el coste en créditos\n",
    "features.manage_data.merge_layers(input_layer=union_flayer_coord,\n",
    "                      merge_layer=union_flayer_manzanas,\n",
    "                      output_name=\"toponimos_lopez_manzanas_y_coord\",\n",
    "                      estimate = True)"
   ]
  },
  {
   "cell_type": "code",
   "execution_count": 52,
   "id": "0b776126",
   "metadata": {},
   "outputs": [
    {
     "name": "stderr",
     "output_type": "stream",
     "text": [
      "{\"cost\": 1.09}\n"
     ]
    }
   ],
   "source": [
    "fusion_lopez = features.manage_data.merge_layers(input_layer=union_flayer_coord,\n",
    "                      merge_layer=union_flayer_manzanas,\n",
    "                      output_name=\"toponimos_lopez_manzanas_y_coord\",\n",
    "                      estimate = False)"
   ]
  },
  {
   "cell_type": "code",
   "execution_count": 55,
   "id": "d298f7ad",
   "metadata": {},
   "outputs": [
    {
     "data": {
      "text/plain": [
       "'57c0fd7b0e9f4d59b898d63259c769e5'"
      ]
     },
     "execution_count": 55,
     "metadata": {},
     "output_type": "execute_result"
    }
   ],
   "source": [
    "fusion_lopez.id"
   ]
  },
  {
   "cell_type": "markdown",
   "id": "d757807f",
   "metadata": {},
   "source": [
    "# Duplicar (clonar) servicio para futura edición (incrementar la calidad)"
   ]
  },
  {
   "cell_type": "code",
   "execution_count": 56,
   "id": "ef9ac5c0",
   "metadata": {},
   "outputs": [
    {
     "data": {
      "text/html": [
       "<div class=\"item_container\" style=\"height: auto; overflow: hidden; border: 1px solid #cfcfcf; border-radius: 2px; background: #f6fafa; line-height: 1.21429em; padding: 10px;\">\n",
       "                    <div class=\"item_left\" style=\"width: 210px; float: left;\">\n",
       "                       <a href='https://carcem.maps.arcgis.com/home/item.html?id=57c0fd7b0e9f4d59b898d63259c769e5' target='_blank'>\n",
       "                        <img src='http://static.arcgis.com/images/desktopapp.png' class=\"itemThumbnail\">\n",
       "                       </a>\n",
       "                    </div>\n",
       "\n",
       "                    <div class=\"item_right\"     style=\"float: none; width: auto; overflow: hidden;\">\n",
       "                        <a href='https://carcem.maps.arcgis.com/home/item.html?id=57c0fd7b0e9f4d59b898d63259c769e5' target='_blank'><b>toponimos_lopez_manzanas_y_coord</b>\n",
       "                        </a>\n",
       "                        <br/><img src='https://carcem.maps.arcgis.com/home/js/jsapi/esri/css/images/item_type_icons/featureshosted16.png' style=\"vertical-align:middle;\">Feature Layer Collection by greta_carcem\n",
       "                        <br/>Last Modified: December 30, 2022\n",
       "                        <br/>0 comments, 2 views\n",
       "                    </div>\n",
       "                </div>\n",
       "                "
      ],
      "text/plain": [
       "<Item title:\"toponimos_lopez_manzanas_y_coord\" type:Feature Layer Collection owner:greta_carcem>"
      ]
     },
     "execution_count": 56,
     "metadata": {},
     "output_type": "execute_result"
    }
   ],
   "source": [
    "hosted_flyr = gis.content.get(fusion_lopez.id)\n",
    "hosted_flyr"
   ]
  },
  {
   "cell_type": "code",
   "execution_count": 57,
   "id": "210d3676",
   "metadata": {},
   "outputs": [],
   "source": [
    "target = gis"
   ]
  },
  {
   "cell_type": "code",
   "execution_count": 58,
   "id": "db56f71f",
   "metadata": {},
   "outputs": [],
   "source": [
    "cloned_flyr = target.content.clone_items(items=[hosted_flyr],\n",
    "                                        owner=\"greta_carcem\")"
   ]
  },
  {
   "cell_type": "code",
   "execution_count": 59,
   "id": "d94faba9",
   "metadata": {},
   "outputs": [
    {
     "data": {
      "text/plain": [
       "'7818afb150354e79b614f7eae2e66898'"
      ]
     },
     "execution_count": 59,
     "metadata": {},
     "output_type": "execute_result"
    }
   ],
   "source": [
    "cloned_flyr[0].id"
   ]
  },
  {
   "cell_type": "code",
   "execution_count": 61,
   "id": "cb76543e",
   "metadata": {},
   "outputs": [
    {
     "data": {
      "text/html": [
       "<div class=\"item_container\" style=\"height: auto; overflow: hidden; border: 1px solid #cfcfcf; border-radius: 2px; background: #f6fafa; line-height: 1.21429em; padding: 10px;\">\n",
       "                    <div class=\"item_left\" style=\"width: 210px; float: left;\">\n",
       "                       <a href='https://carcem.maps.arcgis.com/home/item.html?id=7818afb150354e79b614f7eae2e66898' target='_blank'>\n",
       "                        <img src='data:image/png;base64,iVBORw0KGgoAAAANSUhEUgAAAMgAAACFCAYAAAAenrcsAAAoQklEQVR4Xu1dB3sVN9beH/btbrKpEEglJJDd7GYTWoCEahsbMJhqbFoMGMeAMbj33ns3pphisOmBBNiEZNPbJtGn98zVHY1Gc31dufei93n03DIajWbmvDrnSEfSn5iBgYEn/qT+YWBgYMMQxMAgAAxBDAwCwBDEwCAADEEMDALAEMTAIAAMQQwMAsAQxMAgAAxBDAwCwBDEwCAADEEMDALAEMTAIAAMQQwMAsAQxMAgAAxBDAwCwBDEwCAADEECoO/CbZZbd4Y+DR5PGIJ4ILNmkM3aUMde2tzMZsZWsYGhO2oWP3ov3FL/MogQGIJ44Nk1hUQOkZLyTqlZWF3/dfb3bbVEJHze+PShmsUPQ6LwhCGIBxYk1Y9KkPlbqhx5dmZ1q1mINIJEz0eVsrq+62oWgxCGIYgHTl3+jD0fXUqC/15iDbt884GaJSgtk1p2xpEHpNIhObeXrrdkbzO7cddbExlMLwxBAuA/X37HugZvqn/7cazqnF/wX4irZgOcVCpAGpkgIJWK1FIniZbua1KzEJJyDImmG2FDkOt3v2DdAYR1unCi6hQlURd8FrQMsWt3vlByWrhy6wGRRwg/SKViXCTaqydRTZ/lFyHheyCEwvMMdYQFQQqah0jIYMe/t1NvokwHVu616iA0Rv+lT9QsfkDzxB3pYonZPayu5wor5CTqOX9LzUbIa7zgEP7otHY1S1AkQn1E/ZDQ+4aGRUVN73X2ls8vwqcuj4GFkCcIXh5etCwcVZ1DajaCePFI+D6ZgPCpPse8hCq61vPRZeyjgj5HXrnOyDcaanuusiNVg6yo9TL7/Kvv1MNBkQjPRc7j9axQHzmPrnPBwELIE+TKrf84TBQkCIuK/ou32Wyl9dSZPfhvZ1YPi03vYp3nbqiHPQGhferDHEc9ZsSU+7/j2vHpTUSYJ5efdORD0gnqWFHbe5UdrTrPij1IpD6rhckNahaCSnRd54KBhZAnCLAmxe5yfWZ1Ifviv27hCL71rPQfh1D3XdSPkoM8GRX9DhLtON5KXbU498nlJ1ya7emVefQJAZQFFRpGrTOIivKRJhNnhu+xo9XnKanXFMhQOhdwjoEeYUEQoL7vGitpu8Jf+vfqIcLwbbSetsAu2u1uPXUkOsSdXxXHqwf92ggCBBJBoBfubuJao4y9HJ1D+XANUY7aKkO7PLUihy3YVeMSQJQnCITrIF91zzVHnqkGzEA8z0CDmwZhRJBgcHbkHsuouUBJRyT8h9ZcFmSdllGFHSbIkj2Njv/eTigmEsyIqaB0sOQ0EQYkhcAjgbRV3ddYzMedbPsJ287XOdxvbq6UamAQKogoggQDkAitOgS4tOOKepiwWNIMgiAqaZ5elecnghBykM2vGTbWsWV76+lTnLPmYDOVrxLkuagSOr/jzOR2LBhMHI8dQYLB2av3SWghvAs5mUY++Zztzu11CPUzqwvs76vyiVSq4KukEl2zD7kmQ7mCHC/E1dAnyJRR7R4nAa7yOhwp7fWndoVMld1X2fyttaTV9uRa2grniHz4vi2zi0WndbjONfCGIYgHHn79PTt92RnBW94xzDJrL7DoFGev2uyN9Sy/6YKLIE99mO34DRLJQPnRqS2O3jDd+AaE++87mnwksjosQCo5APKNzVLnA8/zwe5KyoPv/9pW6TpugieDQ9gQpO0RtnoVXVfZPN46I+F7ekmPQ/DRmwUtA1LJmuEc10R78nqJKPgfx1WopFrMfR0VonNB1UgLEqvpurrOh2fXFtvflfOQ/r2zmu3OcY5/qPeJsh/lcw8FhDxBxEtDq4dPvLTpRA9vaUWrjQQywNEXXbrU1bs2y3HOku0FbGdGE9V15DYXstPePVQPv/6BLfKR6nkfqVQIAgizj75zAqBeL6yvYdkNF4lYch1lUiCf2jkhjguTTnef4hr/3Fah1MgG7g0NRqB7DGeEPEHe2GSbBkiJWT1qljHhjz+Q/lD/9oS2dfYJFwRICJEII1l1wM73FsyiIIQMODt8l33JyeKF9WlWlzM59KudGgHCDJMJpIW5BtI8vSLXri/3l1KLetkTyzJJm8km3a7cUyTclR2XPO8TqbLD3dsHcvlNPn5Nr1CacEbIE+S5NUWOlzaRUV+hjWasq2DJ2V3qYS2gBeRBP7kVl4Uov/ECCYjcCqv5IYQTwbnhTykdLOh0XAOpmhN5X36ffywIhGo+fYNVdA6zKn5dCDD+R/1EnUAskAX/4ZnM5ElXb6SCJnf0gmq6TeTdhCpCniCY+ipeAF7+oMYECQbQGnMlbSS3+qMB14RzjvS0r1sXSbTSs+IsXwAtqphD4hc0yRfQCdl48OU3P/CGw+pFgyCvTan3H/vk/ldscORTKbfbz4FgP7sqlz3jMxP9/68t8t9nzCHbZMO1cE0VslmHlGwI8mhw/upnrLJrmN158F/1UNCo7nKbSmj1x4qvuKCgLh/ureWCVsTNmlx2buS+j4AVRAgrBKWJ/XXxxw4hw7kTRWnHMFt5sI19uK/Ob76h9S/vHFGz+gHBle9bdASo/z/HCSKjlWsg3KtXvdFwzIxBg9DEFidPv384HQgLgkwW5NHwWeutVn88gDDKphT8juquy1LZNWSu/GMLRtrLiUi9AVZG+e33PyiNBvm6qtP9erzt46BjIL20lxLKhYAv4QL80qYmEmihhXH/s0R4Dj8GbT1WoGw0YJGKx4ogX33zIztec57S4LXxmWqAzmQBZALCHJSDGXXdt0BJ+zB7c0stJXwPBPm6sqNNhPG1/hD6+dvteixMqvWff+HaPXoGMu5yrVzZNULHDNx4rAgyWThRe94hnO/7hP+rb20CLkr2tfRRpeSr/GXJUaUUa1KV2rWq02qtA9fYhyktbM4G279B3pmxlk/1Im/9RXet2uuG8pfurqHzk7K72O9BaCoDG4Yg40RK0Sk2c20+e393Hfvvt85WGThQfJo9tSLbT4BZ62td808gzPAfYC7BQYaZU9N92ZEHJBI+DcZJ/vZBFntudZ4Vbr+ukjQJPlemNLP4ox1sfjx6/Zr8BFFNMRDp51//F5RJZ2AIMiG08Jb9g49aSDARuSsARxrEULtBd2b3+X0DTG6SxxGQIPwqLI2A8RQrzAREW5pUwZ5YetxRtnwtBFK+uKmRzeZ+llqHORvLSfP8K7HBUWcVQzce0P399vvv6iEHfvoFZAucJ5wREQT59X+/0cv86edf1UNTBmgD2ceAkywERfgK6lgCBvIg4BD0V2ILKVREFfKjVWepjKEb99mRsj4Wtb+CtIWcD9e1oohtTaFeKy6thX32+dds47Eu6mlDmsn9Ijmfl1+EOoh6vpVQriUA/tt4pN0i2876gGQLZ4Q9QWCzv5FgvUy8rNIAju4lLnTNaBV/c7/wsUK19ZHE3JKTdefJXMIAI3wQtOZPLst0EArpr4vSKJ8s5MiDaF0IKP7Dff15YZrzWvwc9IwhP8ytpXvq2Ywoe7wFx2u7rVB+mF7if6pPjG1y6QIj8TzVela0uwc4U7gJKefxIhs0JYi0bF8zPftwQ9gTRH1Rr3ETQocjlbxV3AAiNbD5m8vZ/yZIEgigLEgvrCtjX3/3k//4weIBNmNNPm/pc/0OtfXdHqwsar7I9hf2k2ZB+DzqBuF+6oNMxz1BkGdGFdIxOOTQBvgE+bLrLOf8/LUHbNmeOjY7upBVdVtjItByVKZUll+D8PPjj7mjCXQEQT1VePXkycAznhNvj86jLqofFuoIe4Lszh9wvCi0pCp0L13XKo4FP/z0CyvruEIkIH8gJp8WfJNbSSz3QxpikwhVbyCS4jtIce+Lb4hUL0jCH5fW5LontM7IB8Hf8DEnBr8mnHuUh/vy6h7GOWIOPSVefnJWJ00pRlkyoWXEH2mlupAW5HXT5StrG7Ly+MqNz3CTTadlD5a4pziHMsKeIBD+FzdUWwIW38iy6tyj4zqCFDW78wUDtIoxB2rZX98/xl6LOsHe3l5HZcPkQR0gtB1nrVby+x9/oam5z6yyJ1chkWnkM6cST3aSAFZzge0cvMX6Ln7Cdme1kd+B+6GRak6+9/c2scSsLrr+rDVZjvK8tCZwqOQ0PR9c68+L07lf089+5o71aEBdUCcdOQSQB2Tzyof/Zq2TetH480GjEU4Ie4IA9x9+Qy9pJICjuOkoWsVGq1WMLmLfaF5oMEg+2UJaAC98dnyDw+kVXaq78/qIRKQ1eB7HxCloEyk+C8dbfaHiIPKbW22T6M34UrbpWIeDDOj5Uk2wmdHFrPnUNRqoXJ/eRna/DMwghMYR+RdJg4dTjQvc9Fu+t569tK6I3lG4ISIIEiy6Bm/TS/rm+/GRA9DZ3uI7jW5zAjy1LMMx/gASYFoujtFUXWGaiBRTwPKbh1wmCc5Tu2lx/eMV/ZbAk9ZsYIt2ljo05GsbK6hnT0BXrtByBoHxWBFkMrBH8Q+EBoF2Qm/ThsP1JMRqKAhaeZCz6/xttnSvMyQFpPkr92Oi9lfadj3O4UL/znbnfBgxYn71zufsaMVp+lQJgPR6nDVPPvFkF4W7q+XqRuwN3DAEGSO+5drng30N1Aq/vL6CHas8w6IPWHMs0I0a93Eb9frQ/IpYS+CRN7ve9nlQxrpD1jkIQxHr6SIffA98vsT9hvkbC6i7FxOkoIHg56jz5IHtx5ocGgQh91SGRKpN3PHGf6jTriy3Q/3jz7+yJm6m4XM0nL92jx0tP0X5ZU0ViTAEGQd++OlXdri4hz348lv6rc6L+KjoNOvmmgIO8dGKAe3i0GjBX95Y49I0MKmQH1svqJoBZKvvdfZYiQ4IjG8QiTiZqMNAOg8aDfnQowUygsjFbbazjO+vb64hAuET80ma+q/SfarAgKxM6I/Lw6tXaqwIe4Jc5g4pWjMkdL1ONYpaLWGC7Y/PoZv3tX5CMLhw/QHFcsnnygNuRKJ4q0MAadk++9gvv/7GhfgaK2gc9GsPGhvh2gODkvgN8iFEBQtGJOf2Ua+YCG15dUOZvyx8l+uA+5HvT4bOB5uO5/6oENYEgQDN3WLHMi1KqlOzECBMgkSXb3r3dAWDV9Y7hSkxu5e3omf9Nj6E8J+bC+iaweDbH35mK/Y3WOEnGyrZxevOnazwO6PqLCXkBVD2ipQWEmIsXUpmGT+fRu19/2FQEt9FPf+Guejc7IP2gKaZFVPivwa+y/ckazXcn4w9BW4fzOu5RwLCmiAuE4QLRNtp9zI1H35kO6gglJeDinGLRm5aeM2gA1RhEtoi6pDVfSuc9rSyASoLZQaDm599yb7zEUDFuZHPqKxffrXGL9T7hgZZd8Aai0EdsMA3Inxlv0TWcnhOR8rtRbNzGi4SwUBy+CjyHHxVG6KO7++2QnugrZDX67lHAsKaII19w9bYhiQoqvBjxQ65JUXSrV6I8+ZsskwnLLiGfTp0SOc2tyVMjdyHqPa3+Gp3L1prlIUyEXg4XhwoOkUaAWXN3VhGoeoqQVCX51Y4AxoRPi/XSQ1mzKk/77jOLU7Q2p4Rrg1Pa+9PBp47nrV4rrrnHikIa4IACcfa6IXiZR6pdAv+dz/+7BAOvPiqLvdo7v4iZ0zXy+ttG11AkAgrhGCc43DpgP/Y1hP2YnKqk7wrx2mmCKA1hmbQLSgH6CIAytou0T29FFtM9wIhRQ+V6gfFHG6lVU7mxpexlR81cv/F1qKvxAeeP377HshyVbsAuMBozz1SEPYEAbCSh5eQAXiBeJFY+xYvVoe9im09e51towu4SBRnkwim1KqURhoxVgmimikABPQ1obE44Qpb3BpLR5CSFitwENfDhjp9F+/Q920SQZFAGJSPCGaRX/gyF2+4tcJ4MNpzjwREBEGCAV4kXqgXIIyvcBLRRCNOpNxGdzDjaCTC5CFE1CL2CmWgLNj0QqjVfF5kw/EGrlnODn/K1h5oIBKRycO1hpdPIwiKIEjRC4VyvbRXJALPDd3qSEMT7IwReGwIEgywsiFaZa/lhSwS1Vgk2uAmUWJOn1/gsbIJRsgx0Bf1URW9tPq+ERL8XZnOBatlsuElI3bJCs2vJ4HHCinY1s2rtf72+5+pXHyiHLlcaK+pEJxQxAf7bTPy9QTvzpixwBBkDMCMxbyGQTY3NocdLbM37RRQ/QAak/BF5ZIjvbaEvoM0f1l8hHqaBNngHDf0XWWLd5aRfwNS0GesvTpKbv05FpXawv65vYZtP9FJ9cEW1Jap1kif69Os8lDuK/EwsR44BGcOF5xL18ffaRCqwAAmnoH8/HWdMWOFIcgYkFp62v8S0Lo39DmjU7efdO4hcrC4308a8QnBBXHEoB00A1Y8EUJO3bPrrPgrEAO9YSL6F2vrqgLwUpw13wPlYhT939tKWX3vCKvrtbqrWwauugTnnQTnAnEyEMgJoooogXABBivRAIl7xPOo7dHPkxkLDEHGAFVDwHwZGPqEm05Xae4DXtKaA01sfkIl25bZSb9FGIpKFJFAAnkzHiQxyQkvGfNOSBvEWbtQqdd/MdbKK4fQz9lc5zcvUAd0GoCUIBB69FAOiKMC57wabxEVWg7704cTMqoHSWsiFGZLhr4zZqyIeIIg+A4CfKzyNG9VJzYfQY25mh1TSDFQ0AQzVmXRNbAaiAyYOC/FlftHsJ9G2LtUBplfPiEXSfgny7lpdGroLtcIVlzUjiynhlqQWMU2prcQwVQtIZsXWLtX1nyYn6Kzz/cVOjshXuL1CjdgCSYsVjFZiHiCpJYMOISjTgn2E/jvdz8SkTAN1gsQ9rmbq8mBRissWn659X5Nar0B0SrjHNQDS/uAKMLE2prRTnNBxHHkhTMNsv2oBAvi99I91rWtnqpG9vL6cgpulOuA/1OL7d4rkFJM8kLafNy5cY6AShAQ93FHxBNEZ5aocJgWXJDym/SmBVrx0rYhWjQBZYnQjkCtt2vUm+dFnSxHvNKf9z4npmWq/UhaAz6ELppWLQ8J/2EeOcpD/YmAPuEGqVFHQWpcH0TQwfUcpsnEslp974bpUSLiCaKaRTrhCKblhC2PReKoN8o3Mk+b1WCtKaX1XrW3koQcUJ1kuVcK/8OhlpGc080wrx3XeZX7HWqkLMqTBw8xJwVmJO7BWhTCN74SZ92Dev9iU1IvwJcCUe8/nB4nPa/pkk/DBvYb8Bwm03QKFhFPkKGbD9gbCdXWeMShZq1wqAQRwiVDbrlBCGgPpDfX57F5G63gQFwD5gxtSxDfwJKyLVNm6/F2OoY8aN2hPfAbDjhaeAHUDb1Womz4LSWt7iV3IMBvb6um+8H9AfbIvNPBDkaDPipA6OGfibqhUWg65fYT8Yxe31RFJFp9oMnVaEwlIp4gAMYLMAHJCy7hanGbFoIgaL1FtCvyk4mFsYx4e3EGoSVEEB9aSbxcMcuPBhB9Lf2rm+y4KHzKXZW4zup9VUF3V6KLtrTtEvtHQimbt7mCLUqs8IW92z5YTp21cmMoQDd2kVXn3oJB1YI6K2Cq8FgQJBjQaDRvmT//6jt2rOoce3NzObVWIrQDo9iYUyH3QqmtsyAFESfKGhTEyuy6SUbyb/ghiI/anG4t6gBBFseschpYTbeeJP2X7tC0X/gsqOv2k86YLJyPLl6Um5Lvnmr7qKEOYuo0vPq8plMLGoIoQPgINIJ4GZjFB+F9Lb6K4quwSJyIc1JfHP6nNa98Oz+t+aiW4r8QiCiH3Dt9lgZ2sLCLNIn4TwQ74pgYE9EJRXX3FX+5qDNWc1TrJIe0LEosn7RAxclCMGEwJ+sv+O8TzzW3fvq0YEgS5GjlOfbGpnIKvvMKzpsqyK09XgpMFKh4ElbuO9CsvLW5FIELMlhdttaMQISVLNhaSHFRUQfqfRtkWhHEWfwlv7OzhkWnttB3mHQoY3tmu6tnCsJOy5FK2mr7iW5XsCUCEakea9GbVkSj8rukeDAk0aEAcw3aTTbpVEBL1vaOuK4TCsAzBYnU6IWpRsgRJLfxotKCN6lZCN9NQfg2IFp7WugZq4NgYG1FDpED9cKxDR+3UCsGIRahI9YKJpZPspIT+7mVWUQOIfCNyovFXJCHvvkWWDhOaAuYQhjxPlk9wOZtsUg0C4RcZ9UFZePeRQg/SCi0DDoBsFMUIoWpI4GXgzo+uTzTMUtQF6ME0qA88qfQSje6OwceR4QcQXT2ug7BTADCxCLMkgOJanyrnQeD7IaLjklWqtmClthaw8ru8iUicCF/Ypm1bwftTchbdWEanFScT9TNT/DrD9jcOCxI7WwYsETow69/cDmpL6zOcuSVu44h/GpYvlpHrFiiQj1HnrMuA/XGBCzMbtxyvJN+RzJCjiCY6irb65hPrqKBpto6VyfUtYoHik/586HMqk49STBzDjPoMO1UQJAC58HUwRwP+Ab4jfQs5n4jdISbYGLAkOKdfOeBILj2/y1Mo1mIKoFVgsOUk+9HbhhUgj6xNMPxG/URzjxmHOoaGZoJybXI9swOqRY2sFSRfA4Wp9BhS6azE0D33CMJIUcQIIc7yu/tqmPr0lr9CxXIwH8QUFlAsDatClWwdI6ubVpg4el6WsAAQB2E36EK29NLj1jXpWV2yhyEJgd9Qx2ZSqJlz290ag8dwa2weH3DIOqC/1F2Qnq9YzUXmFEi1gurjoAkdld0A0vO7SdfTl6MAr11NVy74hPAc5jjW84I53rNyQ/mmUYSQpIgwQBCg3Wb8DJ3eLSKqmmCVlKFuozNC5JpUdp60SUQIMQTS9Ido9nU67SuiL0cW8KeXHaCfBY486IHCQIrA8v2qASHH2GtY1XMlu+tcy0bhLnrWLaosX+ETLKZawuIEH/74CRNzhJdw1iCB8sH4TeO4R5EWYIUaaUDtHIjkZR/im2cMQCH6+j2XBRIzut3PI/p0CCi3jc+fagemnKELUEAxCohdskLWFTu79tqiUSxXBupZg6gmhavbrC2EsAaVMs/anVpEJgyIMehwm4yQ0AO2hSHC5rYUu1Zrj2wMgoGBt+MLyMB/Q9/yUgoF0L1dkKJf50qdB2LgUSRPxBU4gsiogzVVEMDAMCvEqRAfeXV3nfl2ksAjQbUDc9yYVI923mya9S6ThR4Z6LeCKXBfUwnwpogwQBrx+r2rhDACxDLbkJYxZKcousVL4Z8jChsemPt7IS82FLghRhp27PNlpkkRshBrE3pzXT9tLIz9JKRZkXLPoo1Ao/fMMnEWrcYtPxwfwPFYiVkdNBvGapWs3ykfP9cD/mYMIHUusrED2Uzya3h3RskTSUiniDBQCzcLG+LoI5NQJAhfCCAWPwZ2kbOA6FH6wyNAJNpb34vraUr+xvCL1E1k9BcAMLR5WPQOIc5yV6JK6aFs3cjoNFHLNRHnnBFYy/SsfwGywRS6woyWWvx1rr2EwkleGn46YIhiAfQks/bVEZCBEFLyu4iEmGcAQNqV7nmgYmBaF7kscwlyy+hPc/xyQmlIxqFf3ACIVmaq4o0F8oESVUtMGNtoWNPkRnRVvgItnuGvyP7Qyhv69FGWjkR3blY//eDfdjks9Bf17kJNXQfuJ/p3Bl4PICGR33l5zSdMAQJAJAEvWMQJrHMPwQOEahwrCG4mDcB0wsagV4iF9YZMZZ9D18BL1jeNWreJi7YK/P9fsCc2Dz26edfs+X7MOuvgcpW9wRBL5X4Th0CSg8YBgQtItey5Gw73gpkm7VOipbleVKLuim8QwXm26OjAfWYyAZDUwHUF+/Ba2nWqYQhSADotg/zcpDhTyzcVU37k6NFf3tHHQUqYv9wmDDYCgGJNIpici1Oske5kdDFja3U3t/bSBvgIHRdmE04V16YTmikl2OL2MXr9/2792KLOWwXR3uLrLY1km4TTYS+yHXCBj9ewMQuPAt8Pg6IWIKIjTGxyWSlxwBhINDus5oNKLETlLxtM8LT8Tk3wbblMeZwnPsNL67Hws6NNNtPwGVyYXJUtK0hkHTRAwUtl2kjzw3p7fQd1wO53t1aTP/h2vI9x6Y2WKujoNeK5qFY9e3UbL2mG1jUARuk4p5o6zf+eW7kUzWLH5i6HGj6crggYgmC/cdFqwgnWR2LEMD+4hAoJPmFqoKM9PzqXCoTpgyEEy035ldg62d5QNOLXACZXNtsk2tFSjP1iIk93FHu3oLRe5VwPXXikHzPstZAem1DGdVTB2wjLe+njjrpgC225TKTPLqHD5YMsNmcQEj47gU871DuIAAiliCqo6vryoSwvrihxp8He/oJwFSZE2+PFdDA2/KTdmAi1wzorRLAeAz2Hu84d4t1nrvhH7gTaWdmO7vsm/0nm1zCJMqpH/Tt78FNtcRKf95ggevL96yunqK7fxmFrZcp/GXjkXZ/nVTM2ejsCdOVWdvt2xvelweE140/naw7TwQiDZveoh4OGUQsQVRf4UCxexTdrSWa+Au2QywgyBAYCB6EV0w+kvMXNw+ScC7b30q/oa028Be+MsUuF+eKVRSxTI9O+EV9KYoYROF5l+6pCzgQKgP+ighKFKPyIDKIiv/Vlhrzu0Fo1AWf7ZzYo6G0A9seWGW+IZmUMtRnirxoMGTgnhwaVnnuMg4UD7BZ0QVjehaTiYglCJzjf+2spxcaf7Rd24p1nbvpaOlFa4f9PES4BV4cXqAQPFUzPLMyh21Jd/6Hcqo6hriG6OOOcqs/HF0IA/wXvHCxhlNV14i/9Zcjb5F257tbaRWijriuCFfBuRSKH2WF0MvAPZIJxO8F63r5if2x3rSSgR4lTJX12rwTZc/bZjdOaChUqM8dKbPGPdX2ZO15qpvIg0ZguhGxBAF++/0PChkPhF1ZnUSiN7bUsqOVZ9n7e6x1bWfxFg7+CcoQvUbIh3WtxAsTk5Cw+AJ+46XT/IzoMrZ2fxWV3zXoFgZBghlrueO8HmMYTdTli3zBmIYAyAVitZ+96agjyhIzGkUZqpAm51tOuXotL3NorEDjhMYBCXXTQdawIJTuusF2HkwlIpogwQIOL+zuZOWFiA01QRxavZC3shDuJ97PoDB3DNIhX2J2P3slttARgAg7vLjV6hiQhQExWmJgTxXQhYnV7N3t1kqNYhWUd7a6QytADsuks64Tl8avxR1tkBznYKQfvz9MaWHv7ahg5R1X2Kf/sZbMGeSkf3aV1WumXh/XjT3cyCo58QIFLE4GfufEOVLaRwmE0qGsYyQg0acDhiASvFoslThCA+D4m1wo8YKRVIETrT+EIZ0LAvYzn+ELMQEBXvd1AoA00DpYsyr24zYaeLRCUhC2kiHV0IJq54uWHyT/RTJ9TnATZRZpKFyvip0dvkukt0wxS2OJDUDFfuyiTOxOFQpAD9uKlFa26VgHPcfphiGIBJhDCB2HgEBoRHi8jjg4vmBXLSvxaQnA1TFQ4u4YwPTa9NJeGkQs7xwhc0iEqCCJpYNU4ZehEgR16eZ1V/G8L+RFpKTcU34Sg5DQgO/trOJaCqP7o4/FPI4IO4IMXr3PMnnLiOS10c1EgJ4ZEmAuyH/8YbVYIA7mhgthhHllO9NNrKjZCsEeuf05+/euRvInNh/rJMHGJCWYLKhvebvVU4N64z98lrdddAmmS/jPO4Uf9Xp7q6UBUK99+fpdpOZusrupiSCc6OiJEhpK/G/NhHSSSZiXAriPJcm17LnVeSz+aEfAnYAjCWFFEAjcLGnxAXncYirxJReGpKwONn99NhFHFWLZkYbw/iaNI+zNd64yMm8j5opYwonPA/kdDjsbZb+1w9ZEqw7o7W5cB3UBoQWRVUBDCecfpiAIDKQVO6fNImFgEdoM+d/d1eDPK7D+SKcjv9dEKasBu0Dpzv3Jb8CmG2FFENW0QKrudK+CGCwqOofZM7w1XZRUSy9WB5BjqXCIeYo+1OAypQ5qTCkBlUzqb5g9CDCEYM7bWkuOKYQTWgzJQ/aDxu7cXjLb4N/gXoCe87ccGgRRweh9Q5oTV6i9pqvemt41NGDy6inT1YBNJcKKIHixcmurs8+DBcgmCwmcZ+xRqCKv/qxDMHBOZccl9m6SZUolZFimFM49N+yOTVLJBGHUCdrvXCq9NMF4cbxm0HGtJZLZhP3jVx9qp/ov2eU0xQqbLkilWMBAq5xHp0F0DRj+C2eEFUEAam15S4fWtrzTvXxNsAjmZULoxRiHSCAoiAoIeT7Htc/zPp9kYVKNg2ggz3vJjVTn93aUs1fXWa01ysE9qATHudBsMFHK2kcXrtv3vqL8+FSh61zQIRjtACQc72RrUtv5O9DvLzKZDVioIOwIMlnoueA0M97YXKlm8ZMIPTzCIU4pdHd/qlpCJ2AwmzBXROTBioo67Mlz+iwFmtZcABHDokx8nrlylzcaw+ypFZZJhem6ssB6+TNq/XUh8cEiOcduwCq6xt+AhQoeW4IAbWeus7WHO2gBNK+WDsSB0FhxWGWslxNLRTAtcDCtOWYqBlMW8kHDqHkxZuLsnSojU0jcoxdw7wt8Wi7Qs3gc8VgTJBhgGuzWzC4WldZBYek6VHZf9bfUcFJLWs6rWahVloXZS2OpsVi61hzOL47Ji2ALgsi/kWIO1rHyjmHPPdYNAsMQZJKQWXmKLd5e4EkiEG3+Vsz5qKOWGqRSAYJYU3atHiWYdr0XbrvyCOFHWInlz9RR2SeqBhwaRCYQerN0ODtynzvzFyjJK0uOF43911kZCOlbdzjcEXYEufnZQ3Zq6BP170cKmDFibCP2sHupVBkdZ/UEEsB8dAg8NJHO3wFk0wp5S1ttPwXlR6d1srnxZY4Rep1Jh/AYOc+iCXbLrkmx/R3ErmFJ13BHWBFEFsR1owjidAFCoC7ho/aGjQVnhu9R6Efs4WbPlQSreq6RxpgRU8b25fWohwmHSp0mnS5UPJievGChkg0pv1HfwZCMsZkVOWzBrpqQJ1HYEGSyBXGy0HfxNq2XK9cL4w/jgSpki5KtFh1E6b/oNLWCwY6T3fTMFu1uYtfufKEedtUd5pkuXzDAebJ55/V+MqrOOfKIe9QB9+3VSEwXwoYg6suciCBONtYeavHX6R879cIYDHQt+msxWf7R6XWpk6819+f3Eone2lbLqnv0c9aDRX6TtWg23tO7O9ydEEAwvXlAEjYH4mUh4bsXsG4vZGOqEDYEAaJSbUF8O3H8gjjZuH73CzZ79XHupOdPqE7QEmqLHopaMxBw/13KFFsZ1b3XHPeId6pCbShAEt303tNX7vlnay5IrPGvVD+ZCCuCAOgtQoJQhgLw4uT4I2wAOhGkFPT5W3Ss7evf99yXdFNTww01vddZ3JEulpit959UguAZ9F9yd8wsTLZXYkHSjRlNFGFHkFBDsCZDMMDq7+mVg5QGrlhbEkSn2oGS0Jqh0jBMJXCPuFdx33gGOqgDpYYgIYhUpbdo/hZrLvp4sCDZ7iaFVrp8y1r9BPsVIkFwsN/7e9ycwJyO2LS2gPu/hzNwr+K+vVDbh/XELA07M66KVbbr1z6bCAxBJogbdx+SOYQXhYlHeGnjgWpWIOnMtejD7aPmAbBcKUgEMp26bGmjSAQCJEEiEUA62TAEmSRMxguSTQYQTjcgGoxZQSPykl/0fEw51zTfqtkMgoAhSAihjmsf7IiFnplDxfplPVOxGY9EEJ3TrtNGod77FaowBAlD7M7rYxszullqiVt7AANDd2hFFEGOt7ZWq1kMgoQhSIQCQY7xGT00v+TmIx6NDmcYghgYBIAhiIFBABiCGBgEgCGIgUEAGIIYGASAIYiBQQAYghgYBIAhiIFBABiCGBgEgCGIgUEAGIIYGASAIYiBQQAYghgYBIAhiIFBABiCGBgEgCGIgUEAGIIYGATA/wPlUr5BojcGbwAAAABJRU5ErkJggg==' width='200' height='133' class=\"itemThumbnail\">\n",
       "                       </a>\n",
       "                    </div>\n",
       "\n",
       "                    <div class=\"item_right\"     style=\"float: none; width: auto; overflow: hidden;\">\n",
       "                        <a href='https://carcem.maps.arcgis.com/home/item.html?id=7818afb150354e79b614f7eae2e66898' target='_blank'><b>toponimos_lopez_manzanas_y_coord_para_editar</b>\n",
       "                        </a>\n",
       "                        <br/>Duplicado de 57c0fd7b0e9f4d59b898d63259c769e5<img src='https://carcem.maps.arcgis.com/home/js/jsapi/esri/css/images/item_type_icons/featureshosted16.png' style=\"vertical-align:middle;\">Feature Layer Collection by greta_carcem\n",
       "                        <br/>Last Modified: December 30, 2022\n",
       "                        <br/>0 comments, 4 views\n",
       "                    </div>\n",
       "                </div>\n",
       "                "
      ],
      "text/plain": [
       "<Item title:\"toponimos_lopez_manzanas_y_coord_para_editar\" type:Feature Layer Collection owner:greta_carcem>"
      ]
     },
     "execution_count": 61,
     "metadata": {},
     "output_type": "execute_result"
    }
   ],
   "source": [
    "new_flyr = gis.content.get(cloned_flyr[0].id)\n",
    "new_flyr #el nombre del item y las propiedades de edición se han cambiado via el UI de la web."
   ]
  },
  {
   "cell_type": "code",
   "execution_count": null,
   "id": "f5e37755",
   "metadata": {},
   "outputs": [],
   "source": []
  }
 ],
 "metadata": {
  "kernelspec": {
   "display_name": "Python 3 (ipykernel)",
   "language": "python",
   "name": "python3"
  },
  "language_info": {
   "codemirror_mode": {
    "name": "ipython",
    "version": 3
   },
   "file_extension": ".py",
   "mimetype": "text/x-python",
   "name": "python",
   "nbconvert_exporter": "python",
   "pygments_lexer": "ipython3",
   "version": "3.7.15"
  }
 },
 "nbformat": 4,
 "nbformat_minor": 5
}
