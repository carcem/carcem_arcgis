{
 "cells": [
  {
   "cell_type": "code",
   "execution_count": 39,
   "id": "9c8704f2-8eca-4a84-9e8d-d35b09f8d49a",
   "metadata": {},
   "outputs": [],
   "source": [
    "library(plyr)\n",
    "library(dplyr)\n",
    "library(reshape2)"
   ]
  },
  {
   "cell_type": "code",
   "execution_count": 40,
   "id": "034351e2-1443-43a6-b3ca-86c8e9087416",
   "metadata": {},
   "outputs": [],
   "source": [
    "path_to_data = \"data/Callejero Plano geometrico Tomas Lopez/\""
   ]
  },
  {
   "cell_type": "code",
   "execution_count": 41,
   "id": "d6450dc6-e22d-4e3d-8908-e6d66b532889",
   "metadata": {},
   "outputs": [],
   "source": [
    "csv_files = list.files(path_to_data, pattern = \"^.*\\\\.csv$\")"
   ]
  },
  {
   "cell_type": "code",
   "execution_count": 105,
   "id": "81c2410c-d980-47b0-85c8-eae4544edf70",
   "metadata": {},
   "outputs": [],
   "source": [
    "for(f in seq_along(csv_files)){\n",
    "    full_path = paste0(path_to_data, csv_files[f])\n",
    "    \n",
    "    d = read.csv(full_path, skip = 3) \n",
    "    d_names = d %>%\n",
    "    select(contains(c(\"letra\", \"nº\")))%>%\n",
    "    names\n",
    "    l_coord = length(d_names)/2\n",
    "    for(n in 1:l_coord){\n",
    "        vector_names = d_names[c(n, n+l_coord)]\n",
    "        dd = d[,vector_names]%>%\n",
    "            apply(FUN = paste0, MARGIN = 1, collapse= \"\")\n",
    "        dd_clean = gsub(\" \", \"\", dd)\n",
    "        d = cbind(d, dd_clean)\n",
    "        names(d)[length(names(d))] = paste0(\"coord\", n)\n",
    "    }\n",
    "    if(\"manzana\"%in% names(d)){\n",
    "        df = d %>%\n",
    "            select(1, \"manzana\", contains(\"coord\")) %>%\n",
    "            melt(id.var=c(1, 2), value.name=\"coord\")%>%\n",
    "            mutate(value = gsub(\" \", \"\", coord))%>%\n",
    "            filter(!(value%in%c(\"NA\", \"NANA\")))%>%\n",
    "            select(-variable)\n",
    "    }\n",
    "    else{\n",
    "        df = d %>%\n",
    "            select(1, contains(\"coord\")) %>%\n",
    "            melt(id.var=c(1), value.name=\"coord\")%>%\n",
    "            mutate(value = gsub(\" \", \"\", coord))%>%\n",
    "            filter(!(value%in%c(\"NA\", \"NANA\")))%>%\n",
    "            select(-variable)\n",
    "    }\n",
    "    write.csv(df, paste0(\"data/callejero_plano_long_table/long_table_\",csv_files[f]), row.names = FALSE)\n",
    "    \n",
    "}"
   ]
  }
 ],
 "metadata": {
  "kernelspec": {
   "display_name": "R",
   "language": "R",
   "name": "ir"
  },
  "language_info": {
   "codemirror_mode": "r",
   "file_extension": ".r",
   "mimetype": "text/x-r-source",
   "name": "R",
   "pygments_lexer": "r",
   "version": "4.2.0"
  }
 },
 "nbformat": 4,
 "nbformat_minor": 5
}
