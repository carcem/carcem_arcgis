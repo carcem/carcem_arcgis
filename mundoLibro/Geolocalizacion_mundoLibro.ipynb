{
 "cells": [
  {
   "cell_type": "markdown",
   "id": "eafd54a3-36a6-4d66-b715-e3d569a6abdf",
   "metadata": {},
   "source": [
    "# Geolocalización mundoLibro\n",
    "\n",
    "El objetivo es obtener las librerías, imprentas y otros establecimientos relacionados con el libro geolocalizados en la cuadrícula de Tomás López.\n",
    "## Proceso mínimo\n",
    "- Subir los datos como tabla alojada a ArcGis Online\n",
    "- Unir los datos (muchos a uno) con los centroides de la cuadrícula de Tomás López (id: `5d5cce72838c418c9b3b4f232bd09c47`) \n",
    "- Con los datos unidos se pueden crear varias visualizaciones usando la resolución de la cuadrícula\n",
    "    - visualización filtrando por tipos de tienda (hecho en AGOL)\n",
    "    - identificación según género (hecho en AGOL)\n",
    "    - visualización identificando los tipos que son imprenta y tienda.\n",
    "\n",
    "### Bonus\n",
    "- Duplicación del servicio para editarlo manualmente y mover los puntos a las calles (Proceso de aumento de calidad)\n"
   ]
  },
  {
   "cell_type": "code",
   "execution_count": 1,
   "id": "b2ac6604-5997-476a-9371-e117f352f34f",
   "metadata": {},
   "outputs": [],
   "source": [
    "import arcgis\n",
    "from arcgis.gis import GIS\n",
    "import pandas as pd\n",
    "from arcgis import features"
   ]
  },
  {
   "cell_type": "code",
   "execution_count": 2,
   "id": "3723377c-805e-4cf2-a7da-4c60445671dc",
   "metadata": {},
   "outputs": [],
   "source": [
    "env_path = \"../.env\"\n",
    "with open(env_path) as f:\n",
    "    env = {}\n",
    "    for line in f:\n",
    "        env_key, _val = line.split(\"=\")\n",
    "        env_value = _val.split(\"\\n\")[0]\n",
    "        env[env_key] = env_value\n",
    "aol_password = env['aol_key']\n",
    "aol_username = env['aol_username']"
   ]
  },
  {
   "cell_type": "code",
   "execution_count": 3,
   "id": "ae7078ed-ede3-41df-9521-714ca4c34d43",
   "metadata": {},
   "outputs": [],
   "source": [
    "gis = GIS(\"https://carcem.maps.arcgis.com/\", aol_username, aol_password)"
   ]
  },
  {
   "cell_type": "markdown",
   "id": "29a90325-9777-425f-acd7-270f3fc025f6",
   "metadata": {},
   "source": [
    "# Subir datos"
   ]
  },
  {
   "cell_type": "code",
   "execution_count": 7,
   "id": "200a17e5-86f5-4b60-83f2-ecac958b1c55",
   "metadata": {},
   "outputs": [],
   "source": [
    "csv_file = \"mundolibro_sig/SIG-Tabla 1.csv\""
   ]
  },
  {
   "cell_type": "code",
   "execution_count": 8,
   "id": "6d8ea307-596f-44b2-abf7-0179cc3cc951",
   "metadata": {},
   "outputs": [],
   "source": [
    "csv_item = gis.content.add({}, csv_file)"
   ]
  },
  {
   "cell_type": "code",
   "execution_count": 9,
   "id": "90fb1413-0c83-4de0-9d56-2ee9fe434698",
   "metadata": {},
   "outputs": [],
   "source": [
    "csv_lyr = csv_item.publish(publish_parameters={'locationType':'none', 'type':'csv'})"
   ]
  },
  {
   "cell_type": "code",
   "execution_count": 13,
   "id": "a96e5c27-a18c-4036-9f83-d8366e5fbb7a",
   "metadata": {},
   "outputs": [
    {
     "data": {
      "text/html": [
       "<div class=\"item_container\" style=\"height: auto; overflow: hidden; border: 1px solid #cfcfcf; border-radius: 2px; background: #f6fafa; line-height: 1.21429em; padding: 10px;\">\n",
       "                    <div class=\"item_left\" style=\"width: 210px; float: left;\">\n",
       "                       <a href='https://carcem.maps.arcgis.com/home/item.html?id=67149239d5b840c498dd5616e7e86b23' target='_blank'>\n",
       "                        <img src='http://static.arcgis.com/images/desktopapp.png' class=\"itemThumbnail\">\n",
       "                       </a>\n",
       "                    </div>\n",
       "\n",
       "                    <div class=\"item_right\"     style=\"float: none; width: auto; overflow: hidden;\">\n",
       "                        <a href='https://carcem.maps.arcgis.com/home/item.html?id=67149239d5b840c498dd5616e7e86b23' target='_blank'><b>SIG-Tabla 1</b>\n",
       "                        </a>\n",
       "                        <br/><img src='https://carcem.maps.arcgis.com/home/js/jsapi/esri/css/images/item_type_icons/table16.png' style=\"vertical-align:middle;\">Table Layer by greta_carcem\n",
       "                        <br/>Last Modified: June 12, 2022\n",
       "                        <br/>0 comments, 0 views\n",
       "                    </div>\n",
       "                </div>\n",
       "                "
      ],
      "text/plain": [
       "<Item title:\"SIG-Tabla 1\" type:Table Layer owner:greta_carcem>"
      ]
     },
     "execution_count": 13,
     "metadata": {},
     "output_type": "execute_result"
    }
   ],
   "source": [
    "csv_lyr"
   ]
  },
  {
   "cell_type": "code",
   "execution_count": 16,
   "id": "f899c1cb-ad2e-492a-92e2-7015412b616a",
   "metadata": {},
   "outputs": [],
   "source": [
    "lib_table_lay = csv_lyr.tables[0]"
   ]
  },
  {
   "cell_type": "markdown",
   "id": "3fa6ad53-b271-4782-87e5-d1b16d4ee84a",
   "metadata": {},
   "source": [
    "# Unir los datos a los centroides de tomas lopez\n",
    "[ayuda función: Entidades de unión](https://developers.arcgis.com/python/api-reference/arcgis.features.summarize_data.html#arcgis.features.summarize_data.join_features)"
   ]
  },
  {
   "cell_type": "code",
   "execution_count": 17,
   "id": "368cdd96-3565-4d84-af90-27821bd98b24",
   "metadata": {},
   "outputs": [
    {
     "name": "stdout",
     "output_type": "stream",
     "text": [
      "Tipo\n",
      "Nombre\n",
      "Dirección\n",
      "Referencia_completa_de_direcció\n",
      "Año_ini_\n",
      "Año_fin\n",
      "Género\n",
      "Fuente_\n",
      "letra\n",
      "Numero\n",
      "coordenada\n",
      "ObjectId\n"
     ]
    }
   ],
   "source": [
    "for fld in lib_table_lay.properties.fields:\n",
    "    print(fld.name)"
   ]
  },
  {
   "cell_type": "code",
   "execution_count": 22,
   "id": "51310f30-2eeb-437f-95e3-e8d931c9dc07",
   "metadata": {},
   "outputs": [],
   "source": [
    "centroide_item = gis.content.get(\"5d5cce72838c418c9b3b4f232bd09c47\")\n",
    "centroid_flayer = centroide_item.layers[0]"
   ]
  },
  {
   "cell_type": "code",
   "execution_count": 24,
   "id": "ffbc300b-09d2-4bf4-b573-5621405eb152",
   "metadata": {},
   "outputs": [
    {
     "name": "stdout",
     "output_type": "stream",
     "text": [
      "OBJECTID\n",
      "letra\n",
      "numero\n",
      "ORIG_FID\n",
      "coordenada\n"
     ]
    }
   ],
   "source": [
    "for fld in centroid_flayer.properties.fields:\n",
    "    print(fld.name)"
   ]
  },
  {
   "cell_type": "code",
   "execution_count": 27,
   "id": "68e7127a-1a80-4a9e-8838-985a7fc63a0a",
   "metadata": {},
   "outputs": [
    {
     "data": {
      "text/plain": [
       "0.298"
      ]
     },
     "execution_count": 27,
     "metadata": {},
     "output_type": "execute_result"
    }
   ],
   "source": [
    "# identificar el coste en créditos\n",
    "features.summarize_data.join_features(target_layer = centroid_flayer, \n",
    "                                     join_layer = lib_table_lay,\n",
    "                                     attribute_relationship = [{\"targetField\":\"coordenada\",\n",
    "                                                                \"operator\":\"equal\",\n",
    "                                                                \"joinField\":\"coordenada\"}],\n",
    "                                     join_operation = \"JoinOneToMany\",\n",
    "                                     output_name = \"union_mundo_libro\",\n",
    "                                     estimate = True)"
   ]
  },
  {
   "cell_type": "code",
   "execution_count": 28,
   "id": "7dd7d25c-9eb6-494c-a8ff-eab4ee69c7b0",
   "metadata": {},
   "outputs": [],
   "source": [
    "union_flayer = features.summarize_data.join_features(target_layer = centroid_flayer, \n",
    "                                     join_layer = lib_table_lay,\n",
    "                                     attribute_relationship = [{\"targetField\":\"coordenada\",\n",
    "                                                                \"operator\":\"equal\",\n",
    "                                                                \"joinField\":\"coordenada\"}],\n",
    "                                     join_operation = \"JoinOneToMany\",\n",
    "                                     output_name = \"union_mundo_libro\",\n",
    "                                     estimate = False)"
   ]
  },
  {
   "cell_type": "code",
   "execution_count": 29,
   "id": "cd4b298d-6680-4009-8f4e-1c132116e006",
   "metadata": {},
   "outputs": [
    {
     "data": {
      "text/html": [
       "<div class=\"item_container\" style=\"height: auto; overflow: hidden; border: 1px solid #cfcfcf; border-radius: 2px; background: #f6fafa; line-height: 1.21429em; padding: 10px;\">\n",
       "                    <div class=\"item_left\" style=\"width: 210px; float: left;\">\n",
       "                       <a href='https://carcem.maps.arcgis.com/home/item.html?id=a31e1fdeee954641bf19bb05a67fd618' target='_blank'>\n",
       "                        <img src='http://static.arcgis.com/images/desktopapp.png' class=\"itemThumbnail\">\n",
       "                       </a>\n",
       "                    </div>\n",
       "\n",
       "                    <div class=\"item_right\"     style=\"float: none; width: auto; overflow: hidden;\">\n",
       "                        <a href='https://carcem.maps.arcgis.com/home/item.html?id=a31e1fdeee954641bf19bb05a67fd618' target='_blank'><b>union_mundo_libro</b>\n",
       "                        </a>\n",
       "                        <br/><img src='https://carcem.maps.arcgis.com/home/js/jsapi/esri/css/images/item_type_icons/featureshosted16.png' style=\"vertical-align:middle;\">Feature Layer Collection by greta_carcem\n",
       "                        <br/>Last Modified: June 12, 2022\n",
       "                        <br/>0 comments, 0 views\n",
       "                    </div>\n",
       "                </div>\n",
       "                "
      ],
      "text/plain": [
       "<Item title:\"union_mundo_libro\" type:Feature Layer Collection owner:greta_carcem>"
      ]
     },
     "execution_count": 29,
     "metadata": {},
     "output_type": "execute_result"
    }
   ],
   "source": [
    "union_flayer"
   ]
  },
  {
   "cell_type": "markdown",
   "id": "803002df-7b7e-4993-8951-2b703e2f6824",
   "metadata": {},
   "source": [
    "# Dupicar (clonar) servicio para futura edición (incrementar la calidad)"
   ]
  },
  {
   "cell_type": "code",
   "execution_count": 5,
   "id": "aebcd418-3794-4c3e-80dc-21c0a05beb1e",
   "metadata": {},
   "outputs": [
    {
     "data": {
      "text/html": [
       "<div class=\"item_container\" style=\"height: auto; overflow: hidden; border: 1px solid #cfcfcf; border-radius: 2px; background: #f6fafa; line-height: 1.21429em; padding: 10px;\">\n",
       "                    <div class=\"item_left\" style=\"width: 210px; float: left;\">\n",
       "                       <a href='https://carcem.maps.arcgis.com/home/item.html?id=a31e1fdeee954641bf19bb05a67fd618' target='_blank'>\n",
       "                        <img src='data:image/png;base64,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' width='200' height='133' class=\"itemThumbnail\">\n",
       "                       </a>\n",
       "                    </div>\n",
       "\n",
       "                    <div class=\"item_right\"     style=\"float: none; width: auto; overflow: hidden;\">\n",
       "                        <a href='https://carcem.maps.arcgis.com/home/item.html?id=a31e1fdeee954641bf19bb05a67fd618' target='_blank'><b>union_mundo_libro</b>\n",
       "                        </a>\n",
       "                        <br/><img src='https://carcem.maps.arcgis.com/home/js/jsapi/esri/css/images/item_type_icons/featureshosted16.png' style=\"vertical-align:middle;\">Feature Layer Collection by greta_carcem\n",
       "                        <br/>Last Modified: June 12, 2022\n",
       "                        <br/>0 comments, 64 views\n",
       "                    </div>\n",
       "                </div>\n",
       "                "
      ],
      "text/plain": [
       "<Item title:\"union_mundo_libro\" type:Feature Layer Collection owner:greta_carcem>"
      ]
     },
     "execution_count": 5,
     "metadata": {},
     "output_type": "execute_result"
    }
   ],
   "source": [
    "hosted_flyr = gis.content.get(\"a31e1fdeee954641bf19bb05a67fd618\")\n",
    "hosted_flyr"
   ]
  },
  {
   "cell_type": "code",
   "execution_count": 6,
   "id": "0e59604a-49fb-4bdc-a581-567a17d19d38",
   "metadata": {},
   "outputs": [],
   "source": [
    "target = gis"
   ]
  },
  {
   "cell_type": "code",
   "execution_count": 8,
   "id": "022efb93-8ea1-472d-9981-e5111558cea3",
   "metadata": {},
   "outputs": [],
   "source": [
    "cloned_flyr = target.content.clone_items(items=[hosted_flyr],\n",
    "                                        owner=\"greta_carcem\")"
   ]
  },
  {
   "cell_type": "code",
   "execution_count": 14,
   "id": "8edc1573-d23d-4e25-a32c-460d92d3210c",
   "metadata": {},
   "outputs": [
    {
     "data": {
      "text/plain": [
       "'a653206296524afca494ffae1cd2fb0f'"
      ]
     },
     "execution_count": 14,
     "metadata": {},
     "output_type": "execute_result"
    }
   ],
   "source": [
    "cloned_flyr[0].id"
   ]
  },
  {
   "cell_type": "code",
   "execution_count": 16,
   "id": "12e8d6e9-dd79-493e-8652-bc4837b65d96",
   "metadata": {},
   "outputs": [
    {
     "data": {
      "text/html": [
       "<div class=\"item_container\" style=\"height: auto; overflow: hidden; border: 1px solid #cfcfcf; border-radius: 2px; background: #f6fafa; line-height: 1.21429em; padding: 10px;\">\n",
       "                    <div class=\"item_left\" style=\"width: 210px; float: left;\">\n",
       "                       <a href='https://carcem.maps.arcgis.com/home/item.html?id=a653206296524afca494ffae1cd2fb0f' target='_blank'>\n",
       "                        <img src='data:image/png;base64,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' width='200' height='133' class=\"itemThumbnail\">\n",
       "                       </a>\n",
       "                    </div>\n",
       "\n",
       "                    <div class=\"item_right\"     style=\"float: none; width: auto; overflow: hidden;\">\n",
       "                        <a href='https://carcem.maps.arcgis.com/home/item.html?id=a653206296524afca494ffae1cd2fb0f' target='_blank'><b>union_mundo_libro_para_Editar</b>\n",
       "                        </a>\n",
       "                        <br/>duplicado de https://carcem.maps.arcgis.com/home/item.html?id=a31e1fdeee954641bf19bb05a67fd618#overview para editar los puntos manualmente.<img src='https://carcem.maps.arcgis.com/home/js/jsapi/esri/css/images/item_type_icons/featureshosted16.png' style=\"vertical-align:middle;\">Feature Layer Collection by greta_carcem\n",
       "                        <br/>Last Modified: June 12, 2022\n",
       "                        <br/>0 comments, 3 views\n",
       "                    </div>\n",
       "                </div>\n",
       "                "
      ],
      "text/plain": [
       "<Item title:\"union_mundo_libro_para_Editar\" type:Feature Layer Collection owner:greta_carcem>"
      ]
     },
     "execution_count": 16,
     "metadata": {},
     "output_type": "execute_result"
    }
   ],
   "source": [
    "new_flyr = gis.content.get(cloned_flyr[0].id)\n",
    "new_flyr #el nombre del item y las propiedades de edición se han cambiado via la web."
   ]
  },
  {
   "cell_type": "code",
   "execution_count": null,
   "id": "cb7172cb-9108-4887-badb-19a86e848210",
   "metadata": {},
   "outputs": [],
   "source": []
  }
 ],
 "metadata": {
  "kernelspec": {
   "display_name": "Python 3",
   "language": "python",
   "name": "python3"
  },
  "language_info": {
   "codemirror_mode": {
    "name": "ipython",
    "version": 3
   },
   "file_extension": ".py",
   "mimetype": "text/x-python",
   "name": "python",
   "nbconvert_exporter": "python",
   "pygments_lexer": "ipython3",
   "version": "3.8.8"
  }
 },
 "nbformat": 4,
 "nbformat_minor": 5
}
