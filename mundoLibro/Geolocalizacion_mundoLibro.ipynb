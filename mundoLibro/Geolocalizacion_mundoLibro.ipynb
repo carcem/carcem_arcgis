{
 "cells": [
  {
   "cell_type": "markdown",
   "id": "eafd54a3-36a6-4d66-b715-e3d569a6abdf",
   "metadata": {},
   "source": [
    "# Geolocalización mundoLibro\n",
    "\n",
    "El objetivo es obtener las librerías, imprentas y otros establecimientos relacionados con el libro geolocalizados en la cuadrícula de Tomás López.\n",
    "## Proceso mínimo\n",
    "- Subir los datos como tabla alojada a ArcGis Online\n",
    "- Unir los datos (muchos a uno) con los centroides de la cuadrícula de Tomás López (id: `5d5cce72838c418c9b3b4f232bd09c47`) \n",
    "- Con los datos unidos se pueden crear varias visualizaciones usando la resolución de la cuadrícula\n",
    "    - visualización filtrando por tipos de tienda (hecho en AGOL)\n",
    "    - identificación según género (hecho en AGOL)\n",
    "    - visualización identificando los tipos que son imprenta y tienda.\n",
    "\n",
    "### Bonus\n",
    "- Duplicación del servicio para editarlo manualmente y mover los puntos a las calles (Proceso de aumento de calidad)\n"
   ]
  },
  {
   "cell_type": "code",
   "execution_count": 1,
   "id": "b2ac6604-5997-476a-9371-e117f352f34f",
   "metadata": {},
   "outputs": [],
   "source": [
    "import arcgis\n",
    "from arcgis.gis import GIS\n",
    "import pandas as pd\n",
    "from arcgis import features"
   ]
  },
  {
   "cell_type": "code",
   "execution_count": 2,
   "id": "3723377c-805e-4cf2-a7da-4c60445671dc",
   "metadata": {},
   "outputs": [],
   "source": [
    "env_path = \"../.env\"\n",
    "with open(env_path) as f:\n",
    "    env = {}\n",
    "    for line in f:\n",
    "        env_key, _val = line.split(\"=\")\n",
    "        env_value = _val.split(\"\\n\")[0]\n",
    "        env[env_key] = env_value\n",
    "aol_password = env['aol_key']\n",
    "aol_username = env['aol_username']"
   ]
  },
  {
   "cell_type": "code",
   "execution_count": 3,
   "id": "ae7078ed-ede3-41df-9521-714ca4c34d43",
   "metadata": {},
   "outputs": [],
   "source": [
    "gis = GIS(\"https://carcem.maps.arcgis.com/\", aol_username, aol_password)"
   ]
  },
  {
   "cell_type": "markdown",
   "id": "29a90325-9777-425f-acd7-270f3fc025f6",
   "metadata": {},
   "source": [
    "# Subir datos"
   ]
  },
  {
   "cell_type": "code",
   "execution_count": 7,
   "id": "200a17e5-86f5-4b60-83f2-ecac958b1c55",
   "metadata": {},
   "outputs": [],
   "source": [
    "csv_file = \"mundolibro_sig/SIG-Tabla 1.csv\""
   ]
  },
  {
   "cell_type": "code",
   "execution_count": 8,
   "id": "6d8ea307-596f-44b2-abf7-0179cc3cc951",
   "metadata": {},
   "outputs": [],
   "source": [
    "csv_item = gis.content.add({}, csv_file)"
   ]
  },
  {
   "cell_type": "code",
   "execution_count": 9,
   "id": "90fb1413-0c83-4de0-9d56-2ee9fe434698",
   "metadata": {},
   "outputs": [],
   "source": [
    "csv_lyr = csv_item.publish(publish_parameters={'locationType':'none', 'type':'csv'})"
   ]
  },
  {
   "cell_type": "code",
   "execution_count": 13,
   "id": "a96e5c27-a18c-4036-9f83-d8366e5fbb7a",
   "metadata": {},
   "outputs": [
    {
     "data": {
      "text/html": [
       "<div class=\"item_container\" style=\"height: auto; overflow: hidden; border: 1px solid #cfcfcf; border-radius: 2px; background: #f6fafa; line-height: 1.21429em; padding: 10px;\">\n",
       "                    <div class=\"item_left\" style=\"width: 210px; float: left;\">\n",
       "                       <a href='https://carcem.maps.arcgis.com/home/item.html?id=67149239d5b840c498dd5616e7e86b23' target='_blank'>\n",
       "                        <img src='http://static.arcgis.com/images/desktopapp.png' class=\"itemThumbnail\">\n",
       "                       </a>\n",
       "                    </div>\n",
       "\n",
       "                    <div class=\"item_right\"     style=\"float: none; width: auto; overflow: hidden;\">\n",
       "                        <a href='https://carcem.maps.arcgis.com/home/item.html?id=67149239d5b840c498dd5616e7e86b23' target='_blank'><b>SIG-Tabla 1</b>\n",
       "                        </a>\n",
       "                        <br/><img src='https://carcem.maps.arcgis.com/home/js/jsapi/esri/css/images/item_type_icons/table16.png' style=\"vertical-align:middle;\">Table Layer by greta_carcem\n",
       "                        <br/>Last Modified: June 12, 2022\n",
       "                        <br/>0 comments, 0 views\n",
       "                    </div>\n",
       "                </div>\n",
       "                "
      ],
      "text/plain": [
       "<Item title:\"SIG-Tabla 1\" type:Table Layer owner:greta_carcem>"
      ]
     },
     "execution_count": 13,
     "metadata": {},
     "output_type": "execute_result"
    }
   ],
   "source": [
    "csv_lyr"
   ]
  },
  {
   "cell_type": "code",
   "execution_count": 16,
   "id": "f899c1cb-ad2e-492a-92e2-7015412b616a",
   "metadata": {},
   "outputs": [],
   "source": [
    "lib_table_lay = csv_lyr.tables[0]"
   ]
  },
  {
   "cell_type": "markdown",
   "id": "3fa6ad53-b271-4782-87e5-d1b16d4ee84a",
   "metadata": {},
   "source": [
    "# Unir los datos a los centroides de tomas lopez\n",
    "[ayuda función: Entidades de unión](https://developers.arcgis.com/python/api-reference/arcgis.features.summarize_data.html#arcgis.features.summarize_data.join_features)"
   ]
  },
  {
   "cell_type": "code",
   "execution_count": 17,
   "id": "368cdd96-3565-4d84-af90-27821bd98b24",
   "metadata": {},
   "outputs": [
    {
     "name": "stdout",
     "output_type": "stream",
     "text": [
      "Tipo\n",
      "Nombre\n",
      "Dirección\n",
      "Referencia_completa_de_direcció\n",
      "Año_ini_\n",
      "Año_fin\n",
      "Género\n",
      "Fuente_\n",
      "letra\n",
      "Numero\n",
      "coordenada\n",
      "ObjectId\n"
     ]
    }
   ],
   "source": [
    "for fld in lib_table_lay.properties.fields:\n",
    "    print(fld.name)"
   ]
  },
  {
   "cell_type": "code",
   "execution_count": 22,
   "id": "51310f30-2eeb-437f-95e3-e8d931c9dc07",
   "metadata": {},
   "outputs": [],
   "source": [
    "centroide_item = gis.content.get(\"5d5cce72838c418c9b3b4f232bd09c47\")\n",
    "centroid_flayer = centroide_item.layers[0]"
   ]
  },
  {
   "cell_type": "code",
   "execution_count": 24,
   "id": "ffbc300b-09d2-4bf4-b573-5621405eb152",
   "metadata": {},
   "outputs": [
    {
     "name": "stdout",
     "output_type": "stream",
     "text": [
      "OBJECTID\n",
      "letra\n",
      "numero\n",
      "ORIG_FID\n",
      "coordenada\n"
     ]
    }
   ],
   "source": [
    "for fld in centroid_flayer.properties.fields:\n",
    "    print(fld.name)"
   ]
  },
  {
   "cell_type": "code",
   "execution_count": 27,
   "id": "68e7127a-1a80-4a9e-8838-985a7fc63a0a",
   "metadata": {},
   "outputs": [
    {
     "data": {
      "text/plain": [
       "0.298"
      ]
     },
     "execution_count": 27,
     "metadata": {},
     "output_type": "execute_result"
    }
   ],
   "source": [
    "# identificar el coste en créditos\n",
    "features.summarize_data.join_features(target_layer = centroid_flayer, \n",
    "                                     join_layer = lib_table_lay,\n",
    "                                     attribute_relationship = [{\"targetField\":\"coordenada\",\n",
    "                                                                \"operator\":\"equal\",\n",
    "                                                                \"joinField\":\"coordenada\"}],\n",
    "                                     join_operation = \"JoinOneToMany\",\n",
    "                                     output_name = \"union_mundo_libro\",\n",
    "                                     estimate = True)"
   ]
  },
  {
   "cell_type": "code",
   "execution_count": 28,
   "id": "7dd7d25c-9eb6-494c-a8ff-eab4ee69c7b0",
   "metadata": {},
   "outputs": [],
   "source": [
    "union_flayer = features.summarize_data.join_features(target_layer = centroid_flayer, \n",
    "                                     join_layer = lib_table_lay,\n",
    "                                     attribute_relationship = [{\"targetField\":\"coordenada\",\n",
    "                                                                \"operator\":\"equal\",\n",
    "                                                                \"joinField\":\"coordenada\"}],\n",
    "                                     join_operation = \"JoinOneToMany\",\n",
    "                                     output_name = \"union_mundo_libro\",\n",
    "                                     estimate = False)"
   ]
  },
  {
   "cell_type": "code",
   "execution_count": 29,
   "id": "cd4b298d-6680-4009-8f4e-1c132116e006",
   "metadata": {},
   "outputs": [
    {
     "data": {
      "text/html": [
       "<div class=\"item_container\" style=\"height: auto; overflow: hidden; border: 1px solid #cfcfcf; border-radius: 2px; background: #f6fafa; line-height: 1.21429em; padding: 10px;\">\n",
       "                    <div class=\"item_left\" style=\"width: 210px; float: left;\">\n",
       "                       <a href='https://carcem.maps.arcgis.com/home/item.html?id=a31e1fdeee954641bf19bb05a67fd618' target='_blank'>\n",
       "                        <img src='http://static.arcgis.com/images/desktopapp.png' class=\"itemThumbnail\">\n",
       "                       </a>\n",
       "                    </div>\n",
       "\n",
       "                    <div class=\"item_right\"     style=\"float: none; width: auto; overflow: hidden;\">\n",
       "                        <a href='https://carcem.maps.arcgis.com/home/item.html?id=a31e1fdeee954641bf19bb05a67fd618' target='_blank'><b>union_mundo_libro</b>\n",
       "                        </a>\n",
       "                        <br/><img src='https://carcem.maps.arcgis.com/home/js/jsapi/esri/css/images/item_type_icons/featureshosted16.png' style=\"vertical-align:middle;\">Feature Layer Collection by greta_carcem\n",
       "                        <br/>Last Modified: June 12, 2022\n",
       "                        <br/>0 comments, 0 views\n",
       "                    </div>\n",
       "                </div>\n",
       "                "
      ],
      "text/plain": [
       "<Item title:\"union_mundo_libro\" type:Feature Layer Collection owner:greta_carcem>"
      ]
     },
     "execution_count": 29,
     "metadata": {},
     "output_type": "execute_result"
    }
   ],
   "source": [
    "union_flayer"
   ]
  },
  {
   "cell_type": "markdown",
   "id": "803002df-7b7e-4993-8951-2b703e2f6824",
   "metadata": {},
   "source": [
    "# Dupicar (clonar) servicio para futura edición (incrementar la calidad)"
   ]
  },
  {
   "cell_type": "code",
   "execution_count": 5,
   "id": "aebcd418-3794-4c3e-80dc-21c0a05beb1e",
   "metadata": {},
   "outputs": [
    {
     "data": {
      "text/html": [
       "<div class=\"item_container\" style=\"height: auto; overflow: hidden; border: 1px solid #cfcfcf; border-radius: 2px; background: #f6fafa; line-height: 1.21429em; padding: 10px;\">\n",
       "                    <div class=\"item_left\" style=\"width: 210px; float: left;\">\n",
       "                       <a href='https://carcem.maps.arcgis.com/home/item.html?id=a31e1fdeee954641bf19bb05a67fd618' target='_blank'>\n",
       "                        <img src='data:image/png;base64,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' width='200' height='133' class=\"itemThumbnail\">\n",
       "                       </a>\n",
       "                    </div>\n",
       "\n",
       "                    <div class=\"item_right\"     style=\"float: none; width: auto; overflow: hidden;\">\n",
       "                        <a href='https://carcem.maps.arcgis.com/home/item.html?id=a31e1fdeee954641bf19bb05a67fd618' target='_blank'><b>union_mundo_libro</b>\n",
       "                        </a>\n",
       "                        <br/><img src='https://carcem.maps.arcgis.com/home/js/jsapi/esri/css/images/item_type_icons/featureshosted16.png' style=\"vertical-align:middle;\">Feature Layer Collection by greta_carcem\n",
       "                        <br/>Last Modified: June 12, 2022\n",
       "                        <br/>0 comments, 64 views\n",
       "                    </div>\n",
       "                </div>\n",
       "                "
      ],
      "text/plain": [
       "<Item title:\"union_mundo_libro\" type:Feature Layer Collection owner:greta_carcem>"
      ]
     },
     "execution_count": 5,
     "metadata": {},
     "output_type": "execute_result"
    }
   ],
   "source": [
    "hosted_flyr = gis.content.get(\"a31e1fdeee954641bf19bb05a67fd618\")\n",
    "hosted_flyr"
   ]
  },
  {
   "cell_type": "code",
   "execution_count": 6,
   "id": "0e59604a-49fb-4bdc-a581-567a17d19d38",
   "metadata": {},
   "outputs": [],
   "source": [
    "target = gis"
   ]
  },
  {
   "cell_type": "code",
   "execution_count": 8,
   "id": "022efb93-8ea1-472d-9981-e5111558cea3",
   "metadata": {},
   "outputs": [],
   "source": [
    "cloned_flyr = target.content.clone_items(items=[hosted_flyr],\n",
    "                                        owner=\"greta_carcem\")"
   ]
  },
  {
   "cell_type": "code",
   "execution_count": 14,
   "id": "8edc1573-d23d-4e25-a32c-460d92d3210c",
   "metadata": {},
   "outputs": [
    {
     "data": {
      "text/plain": [
       "'a653206296524afca494ffae1cd2fb0f'"
      ]
     },
     "execution_count": 14,
     "metadata": {},
     "output_type": "execute_result"
    }
   ],
   "source": [
    "cloned_flyr[0].id"
   ]
  },
  {
   "cell_type": "code",
   "execution_count": 16,
   "id": "12e8d6e9-dd79-493e-8652-bc4837b65d96",
   "metadata": {},
   "outputs": [
    {
     "data": {
      "text/html": [
       "<div class=\"item_container\" style=\"height: auto; overflow: hidden; border: 1px solid #cfcfcf; border-radius: 2px; background: #f6fafa; line-height: 1.21429em; padding: 10px;\">\n",
       "                    <div class=\"item_left\" style=\"width: 210px; float: left;\">\n",
       "                       <a href='https://carcem.maps.arcgis.com/home/item.html?id=a653206296524afca494ffae1cd2fb0f' target='_blank'>\n",
       "                        <img src='data:image/png;base64,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' width='200' height='133' class=\"itemThumbnail\">\n",
       "                       </a>\n",
       "                    </div>\n",
       "\n",
       "                    <div class=\"item_right\"     style=\"float: none; width: auto; overflow: hidden;\">\n",
       "                        <a href='https://carcem.maps.arcgis.com/home/item.html?id=a653206296524afca494ffae1cd2fb0f' target='_blank'><b>union_mundo_libro_para_Editar</b>\n",
       "                        </a>\n",
       "                        <br/>duplicado de https://carcem.maps.arcgis.com/home/item.html?id=a31e1fdeee954641bf19bb05a67fd618#overview para editar los puntos manualmente.<img src='https://carcem.maps.arcgis.com/home/js/jsapi/esri/css/images/item_type_icons/featureshosted16.png' style=\"vertical-align:middle;\">Feature Layer Collection by greta_carcem\n",
       "                        <br/>Last Modified: June 12, 2022\n",
       "                        <br/>0 comments, 3 views\n",
       "                    </div>\n",
       "                </div>\n",
       "                "
      ],
      "text/plain": [
       "<Item title:\"union_mundo_libro_para_Editar\" type:Feature Layer Collection owner:greta_carcem>"
      ]
     },
     "execution_count": 16,
     "metadata": {},
     "output_type": "execute_result"
    }
   ],
   "source": [
    "new_flyr = gis.content.get(cloned_flyr[0].id)\n",
    "new_flyr #el nombre del item y las propiedades de edición se han cambiado via la web."
   ]
  },
  {
   "cell_type": "markdown",
   "id": "6cce7ba5-35d7-43c2-8a6a-cb68bce70ab8",
   "metadata": {},
   "source": [
    "# Aplicación Exhibits"
   ]
  },
  {
   "cell_type": "code",
   "execution_count": 18,
   "id": "ac84f5f5-5a28-4e62-bbb6-81eb8de13087",
   "metadata": {},
   "outputs": [
    {
     "data": {
      "text/html": [
       "<div class=\"item_container\" style=\"height: auto; overflow: hidden; border: 1px solid #cfcfcf; border-radius: 2px; background: #f6fafa; line-height: 1.21429em; padding: 10px;\">\n",
       "                    <div class=\"item_left\" style=\"width: 210px; float: left;\">\n",
       "                       <a href='https://carcem.maps.arcgis.com/home/item.html?id=c551cb0a062c4f3f8a5428c3b0cb0358' target='_blank'>\n",
       "                        <img src='data:image/png;base64,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' width='200' height='133' class=\"itemThumbnail\">\n",
       "                       </a>\n",
       "                    </div>\n",
       "\n",
       "                    <div class=\"item_right\"     style=\"float: none; width: auto; overflow: hidden;\">\n",
       "                        <a href='https://carcem.maps.arcgis.com/home/item.html?id=c551cb0a062c4f3f8a5428c3b0cb0358' target='_blank'><b>MundoLibro</b>\n",
       "                        </a>\n",
       "                        <br/>Aplicación que describe la base de datos para la conferencia Mundo Libro<img src='https://carcem.maps.arcgis.com/home/js/jsapi/esri/css/images/item_type_icons/layers16.png' style=\"vertical-align:middle;\">Web Mapping Application by greta_carcem\n",
       "                        <br/>Last Modified: June 12, 2022\n",
       "                        <br/>0 comments, 150 views\n",
       "                    </div>\n",
       "                </div>\n",
       "                "
      ],
      "text/plain": [
       "<Item title:\"MundoLibro\" type:Web Mapping Application owner:greta_carcem>"
      ]
     },
     "execution_count": 18,
     "metadata": {},
     "output_type": "execute_result"
    }
   ],
   "source": [
    "app_ex = gis.content.get(\"c551cb0a062c4f3f8a5428c3b0cb0358\")\n",
    "app_ex"
   ]
  },
  {
   "cell_type": "code",
   "execution_count": null,
   "id": "41df5b10-72a1-4132-875d-9c1f3104d4a5",
   "metadata": {},
   "outputs": [],
   "source": []
  }
 ],
 "metadata": {
  "kernelspec": {
   "display_name": "Python 3",
   "language": "python",
   "name": "python3"
  },
  "language_info": {
   "codemirror_mode": {
    "name": "ipython",
    "version": 3
   },
   "file_extension": ".py",
   "mimetype": "text/x-python",
   "name": "python",
   "nbconvert_exporter": "python",
   "pygments_lexer": "ipython3",
   "version": "3.8.8"
  }
 },
 "nbformat": 4,
 "nbformat_minor": 5
}
