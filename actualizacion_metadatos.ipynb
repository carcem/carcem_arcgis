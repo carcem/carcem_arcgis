{
 "cells": [
  {
   "cell_type": "markdown",
   "id": "d85954ba-bcd8-4ab1-81b2-c276d02d6d98",
   "metadata": {},
   "source": [
    "# Automatización de los detalles para items de ArcGis online"
   ]
  },
  {
   "cell_type": "markdown",
   "id": "6a9c4670-e34d-4bba-acc5-865d76295028",
   "metadata": {},
   "source": [
    "## uso de la API de arcgis para Python\n",
    "[Arcgis assistant](https://ago-assistant.esri.com/)"
   ]
  },
  {
   "cell_type": "code",
   "execution_count": 54,
   "id": "6fd69476-442c-4110-b38f-5f2cbdbeb9e8",
   "metadata": {},
   "outputs": [],
   "source": [
    "import arcgis\n",
    "from arcgis.gis import GIS\n",
    "import pandas as pd"
   ]
  },
  {
   "cell_type": "markdown",
   "id": "6da4c945-e8dc-4be9-81e6-9a9999b3c547",
   "metadata": {},
   "source": [
    "## conexión a ArcGIS online\n",
    "ejemplo de archivo `.env`\n",
    "```\n",
    "aol_key=this_is_a_key\n",
    "aol_username=username\n",
    "```"
   ]
  },
  {
   "cell_type": "code",
   "execution_count": 24,
   "id": "122748aa-f48e-406b-8395-1f59a1823d58",
   "metadata": {},
   "outputs": [],
   "source": [
    "env_path = \".env\"\n",
    "with open(env_path) as f:\n",
    "    env = {}\n",
    "    for line in f:\n",
    "        env_key, _val = line.split(\"=\")\n",
    "        env_value = _val.split(\"\\n\")[0]\n",
    "        env[env_key] = env_value\n",
    "aol_password = env['aol_key']\n",
    "aol_username = env['aol_username']"
   ]
  },
  {
   "cell_type": "code",
   "execution_count": 25,
   "id": "c2b702c0-0d11-4300-a813-e08d594bd67e",
   "metadata": {},
   "outputs": [],
   "source": [
    "gis = GIS(\"https://carcem.maps.arcgis.com/\", aol_username, aol_password)"
   ]
  },
  {
   "cell_type": "markdown",
   "id": "7a30448e-1e76-4788-bf24-e1f6733e8f7b",
   "metadata": {},
   "source": [
    "## Resumen de proceso\n",
    "- load csv with information\n",
    "- use name of item to list items in org\n",
    "- join pd with item id and information from csv\n",
    "- update details"
   ]
  },
  {
   "cell_type": "code",
   "execution_count": 17,
   "id": "91583bbe-fb29-4d17-95c5-0ec6834f55a0",
   "metadata": {},
   "outputs": [
    {
     "name": "stdout",
     "output_type": "stream",
     "text": [
      "Láminas plano de 1800\n"
     ]
    }
   ],
   "source": [
    "grupos_lista = gis.groups.search('title:1800', max_groups=15)\n",
    "grupo = grupos_lista[0]\n",
    "print(grupo.title)"
   ]
  },
  {
   "cell_type": "code",
   "execution_count": 68,
   "id": "96153b82-a318-4b8c-a47a-23914025bfa3",
   "metadata": {},
   "outputs": [],
   "source": [
    "qe = f\"title: Plano Villa y Corte Madrid 1800 owner:alvaromolina type:'Map Service'\"\n",
    "group_content = gis.content.advanced_search(query=qe)\n",
    "#group_content['results']"
   ]
  },
  {
   "cell_type": "code",
   "execution_count": 65,
   "id": "95ca926c-4a95-4803-9393-4b1683955fea",
   "metadata": {},
   "outputs": [],
   "source": [
    "lam_dict = {}\n",
    "for item in group_content['results']:\n",
    "    lam_dict[item.id] = item.title\n",
    "        #print (f\"title: {item.title}, type: {item.type}, id: {item.id}\")"
   ]
  },
  {
   "cell_type": "code",
   "execution_count": 66,
   "id": "42e890b6-c303-4bc2-a800-e9cec763ba8b",
   "metadata": {},
   "outputs": [],
   "source": [
    "item_pub = pd.DataFrame.from_dict(lam_dict, orient='index')"
   ]
  },
  {
   "cell_type": "code",
   "execution_count": 67,
   "id": "8d2694ab-56dd-44a0-8255-16f26731a87e",
   "metadata": {},
   "outputs": [],
   "source": [
    "item_pub.to_csv(\"laminas_publicadas.csv\")"
   ]
  },
  {
   "cell_type": "code",
   "execution_count": 79,
   "id": "3d37eebf-35b2-4a4b-ab5b-64ebc1cbf398",
   "metadata": {},
   "outputs": [
    {
     "data": {
      "text/html": [
       "<div>\n",
       "<style scoped>\n",
       "    .dataframe tbody tr th:only-of-type {\n",
       "        vertical-align: middle;\n",
       "    }\n",
       "\n",
       "    .dataframe tbody tr th {\n",
       "        vertical-align: top;\n",
       "    }\n",
       "\n",
       "    .dataframe thead th {\n",
       "        text-align: right;\n",
       "    }\n",
       "</style>\n",
       "<table border=\"1\" class=\"dataframe\">\n",
       "  <thead>\n",
       "    <tr style=\"text-align: right;\">\n",
       "      <th></th>\n",
       "      <th>item_id</th>\n",
       "      <th>start_title</th>\n",
       "      <th>Nombre de la capa</th>\n",
       "      <th>Resumen</th>\n",
       "      <th>Etiquetas</th>\n",
       "      <th>Descripción</th>\n",
       "      <th>Términos de uso</th>\n",
       "      <th>Créditos</th>\n",
       "    </tr>\n",
       "  </thead>\n",
       "  <tbody>\n",
       "    <tr>\n",
       "      <th>0</th>\n",
       "      <td>278f9d34e0cf4dc59323d7124d86516c</td>\n",
       "      <td>Lámina 1. Barrio de las Descalzas Reales (Plan...</td>\n",
       "      <td>Lámina 1. Barrio de las Descalzas Reales (Plan...</td>\n",
       "      <td>Georreferenciación del \"Plano de la Villa y Co...</td>\n",
       "      <td>Madrid; siglo XIX; cartografía histórica; WMTS...</td>\n",
       "      <td>Servicio de mapa teselado de las 64 ilustracio...</td>\n",
       "      <td>&lt;a href=\"https://creativecommons.org/licenses/...</td>\n",
       "      <td>Autoría: Servicio WMTS creado por Álvaro Molin...</td>\n",
       "    </tr>\n",
       "    <tr>\n",
       "      <th>1</th>\n",
       "      <td>6deb0925eb2b45dda6b56b547cf5c075</td>\n",
       "      <td>02_Plano Villa y Corte Madrid 1800_Barrio de l...</td>\n",
       "      <td>Lámina 2. Barrio de los Ángeles (Plano de la V...</td>\n",
       "      <td>Georreferenciación del \"Plano de la Villa y Co...</td>\n",
       "      <td>Madrid; siglo XIX; cartografía histórica; WMTS...</td>\n",
       "      <td>Servicio de mapa teselado de las 64 ilustracio...</td>\n",
       "      <td>&lt;a href=\"https://creativecommons.org/licenses/...</td>\n",
       "      <td>Autoría: Servicio WMTS creado por Álvaro Molin...</td>\n",
       "    </tr>\n",
       "  </tbody>\n",
       "</table>\n",
       "</div>"
      ],
      "text/plain": [
       "                            item_id  \\\n",
       "0  278f9d34e0cf4dc59323d7124d86516c   \n",
       "1  6deb0925eb2b45dda6b56b547cf5c075   \n",
       "\n",
       "                                         start_title  \\\n",
       "0  Lámina 1. Barrio de las Descalzas Reales (Plan...   \n",
       "1  02_Plano Villa y Corte Madrid 1800_Barrio de l...   \n",
       "\n",
       "                                   Nombre de la capa  \\\n",
       "0  Lámina 1. Barrio de las Descalzas Reales (Plan...   \n",
       "1  Lámina 2. Barrio de los Ángeles (Plano de la V...   \n",
       "\n",
       "                                             Resumen  \\\n",
       "0  Georreferenciación del \"Plano de la Villa y Co...   \n",
       "1  Georreferenciación del \"Plano de la Villa y Co...   \n",
       "\n",
       "                                           Etiquetas  \\\n",
       "0  Madrid; siglo XIX; cartografía histórica; WMTS...   \n",
       "1  Madrid; siglo XIX; cartografía histórica; WMTS...   \n",
       "\n",
       "                                         Descripción  \\\n",
       "0  Servicio de mapa teselado de las 64 ilustracio...   \n",
       "1  Servicio de mapa teselado de las 64 ilustracio...   \n",
       "\n",
       "                                     Términos de uso  \\\n",
       "0  <a href=\"https://creativecommons.org/licenses/...   \n",
       "1  <a href=\"https://creativecommons.org/licenses/...   \n",
       "\n",
       "                                            Créditos  \n",
       "0  Autoría: Servicio WMTS creado por Álvaro Molin...  \n",
       "1  Autoría: Servicio WMTS creado por Álvaro Molin...  "
      ]
     },
     "execution_count": 79,
     "metadata": {},
     "output_type": "execute_result"
    }
   ],
   "source": [
    "metadatos = pd.read_csv(\"metadatos capas plano 1800-Table 1.csv\")\n",
    "metadatos.head(2)"
   ]
  },
  {
   "cell_type": "code",
   "execution_count": 90,
   "id": "b6f6ecfe-61ce-4867-b3cc-09dbab6a58e2",
   "metadata": {},
   "outputs": [
    {
     "data": {
      "text/html": [
       "<div>\n",
       "<style scoped>\n",
       "    .dataframe tbody tr th:only-of-type {\n",
       "        vertical-align: middle;\n",
       "    }\n",
       "\n",
       "    .dataframe tbody tr th {\n",
       "        vertical-align: top;\n",
       "    }\n",
       "\n",
       "    .dataframe thead th {\n",
       "        text-align: right;\n",
       "    }\n",
       "</style>\n",
       "<table border=\"1\" class=\"dataframe\">\n",
       "  <thead>\n",
       "    <tr style=\"text-align: right;\">\n",
       "      <th></th>\n",
       "      <th>item_id</th>\n",
       "      <th>start_title</th>\n",
       "      <th>Nombre de la capa</th>\n",
       "      <th>Resumen</th>\n",
       "      <th>Etiquetas</th>\n",
       "      <th>Descripción</th>\n",
       "      <th>Términos de uso</th>\n",
       "      <th>Créditos</th>\n",
       "    </tr>\n",
       "  </thead>\n",
       "  <tbody>\n",
       "    <tr>\n",
       "      <th>1</th>\n",
       "      <td>6deb0925eb2b45dda6b56b547cf5c075</td>\n",
       "      <td>02_Plano Villa y Corte Madrid 1800_Barrio de l...</td>\n",
       "      <td>Lámina 2. Barrio de los Ángeles (Plano de la V...</td>\n",
       "      <td>Georreferenciación del \"Plano de la Villa y Co...</td>\n",
       "      <td>Madrid; siglo XIX; cartografía histórica; WMTS...</td>\n",
       "      <td>Servicio de mapa teselado de las 64 ilustracio...</td>\n",
       "      <td>&lt;a href=\"https://creativecommons.org/licenses/...</td>\n",
       "      <td>Autoría: Servicio WMTS creado por Álvaro Molin...</td>\n",
       "    </tr>\n",
       "    <tr>\n",
       "      <th>2</th>\n",
       "      <td>cdc49bade49c411fb20c4c868cf05854</td>\n",
       "      <td>03_Plano Villa y Corte Madrid 1800_Barrio de S...</td>\n",
       "      <td>Lámina 3. Barrio San Gines (Plano de la Villa ...</td>\n",
       "      <td>Georreferenciación del \"Plano de la Villa y Co...</td>\n",
       "      <td>Madrid; siglo XIX; cartografía histórica; WMTS...</td>\n",
       "      <td>Servicio de mapa teselado de las 64 ilustracio...</td>\n",
       "      <td>&lt;a href=\"https://creativecommons.org/licenses/...</td>\n",
       "      <td>Autoría: Servicio WMTS creado por Álvaro Molin...</td>\n",
       "    </tr>\n",
       "  </tbody>\n",
       "</table>\n",
       "</div>"
      ],
      "text/plain": [
       "                            item_id  \\\n",
       "1  6deb0925eb2b45dda6b56b547cf5c075   \n",
       "2  cdc49bade49c411fb20c4c868cf05854   \n",
       "\n",
       "                                         start_title  \\\n",
       "1  02_Plano Villa y Corte Madrid 1800_Barrio de l...   \n",
       "2  03_Plano Villa y Corte Madrid 1800_Barrio de S...   \n",
       "\n",
       "                                   Nombre de la capa  \\\n",
       "1  Lámina 2. Barrio de los Ángeles (Plano de la V...   \n",
       "2  Lámina 3. Barrio San Gines (Plano de la Villa ...   \n",
       "\n",
       "                                             Resumen  \\\n",
       "1  Georreferenciación del \"Plano de la Villa y Co...   \n",
       "2  Georreferenciación del \"Plano de la Villa y Co...   \n",
       "\n",
       "                                           Etiquetas  \\\n",
       "1  Madrid; siglo XIX; cartografía histórica; WMTS...   \n",
       "2  Madrid; siglo XIX; cartografía histórica; WMTS...   \n",
       "\n",
       "                                         Descripción  \\\n",
       "1  Servicio de mapa teselado de las 64 ilustracio...   \n",
       "2  Servicio de mapa teselado de las 64 ilustracio...   \n",
       "\n",
       "                                     Términos de uso  \\\n",
       "1  <a href=\"https://creativecommons.org/licenses/...   \n",
       "2  <a href=\"https://creativecommons.org/licenses/...   \n",
       "\n",
       "                                            Créditos  \n",
       "1  Autoría: Servicio WMTS creado por Álvaro Molin...  \n",
       "2  Autoría: Servicio WMTS creado por Álvaro Molin...  "
      ]
     },
     "execution_count": 90,
     "metadata": {},
     "output_type": "execute_result"
    }
   ],
   "source": [
    "metadatos_1 = metadatos[1:]\n",
    "metadatos_1.head(2)"
   ]
  },
  {
   "cell_type": "code",
   "execution_count": 94,
   "id": "639d53a0-882e-49c5-b4b5-37d21d9f508c",
   "metadata": {},
   "outputs": [
    {
     "name": "stdout",
     "output_type": "stream",
     "text": [
      "Nombre de la capa: 02_Plano Villa y Corte Madrid 1800_Barrio de los Ángeles_jpg\n",
      "Resumen: Georreferenciación del \"Plano de la Villa y Corte de Madrid en sesenta y cuatro láminas […]\" publicado en 1800 (lámina 2). Fondos de la Biblioteca Nacional de España\n",
      "Descripción: \n",
      "new description: Servicio de mapa teselado de las 64 ilustraciones que componen la obra de Fausto Martínez de la Torre y Joseph Asensio Plano de la Villa y Corte de Madrid en sesenta y cuatro láminas, que demuestran otros tantos barrios en que está dividida, con los nombres de todas sus plazuelas y calles, números de las manzanas, y casas que comprehenden cada uno, con otras curiosidades útiles á los naturales y forasteros, Madrid, 1800, Imprenta de Don Joseph Doblado.\n",
      "Cada lámina representa las manzanas que componen el barrio correspondiente, señalando el número de cada una de ellas en grande. Las cifras de menor tamaño indican la numeración de las casas existentes en cada una de las manzanas.\n",
      "La publicación incluye la descripción y limitación de cada barrio y cuartel, el callejero con el nombre de las calles, plazas y plazuelas, y una relación de edificios y lugares de interés de distinta naturaleza (parroquias, anexos, conventos, iglesias, ermitas, colegios, hospitales, consejos, establecimientos, etc.)\n",
      "\n",
      "Acceso libre a la obra completa digitalizada (BNE): https://bdh-rd.bne.es/viewer.vm?id=0000001444\n",
      "Términos de uso: \n",
      "Créditos: \n",
      "Etiquetas: ['Madrid', 'siglo XIX', 'cartografía histórica', 'WMTS', 'HGIS']\n"
     ]
    }
   ],
   "source": [
    "for index, row in metadatos_1.iterrows():\n",
    "    my_item = gis.content.get(row[\"item_id\"])\n",
    "    print(f\"Nombre de la capa: {my_item.title}\")\n",
    "    print(f\"Resumen: {my_item.snippet}\")\n",
    "    print(f\"Descripción: {my_item.description}\")\n",
    "    print(f\"new description: {row['Descripción']}\")\n",
    "    print(f\"Términos de uso: {my_item.accessInformation}\")\n",
    "    print(f\"Créditos: {my_item.licenseInfo}\")\n",
    "    print(f\"Etiquetas: {my_item.tags}\")\n",
    "    break"
   ]
  },
  {
   "cell_type": "code",
   "execution_count": 96,
   "id": "abaaa735-6ad1-426a-869e-bdd96d43677c",
   "metadata": {},
   "outputs": [
    {
     "ename": "TypeError",
     "evalue": "can only concatenate str (not \"float\") to str",
     "output_type": "error",
     "traceback": [
      "\u001b[0;31m---------------------------------------------------------------------------\u001b[0m",
      "\u001b[0;31mTypeError\u001b[0m                                 Traceback (most recent call last)",
      "\u001b[0;32m<ipython-input-96-d914dd05bda8>\u001b[0m in \u001b[0;36m<module>\u001b[0;34m\u001b[0m\n\u001b[1;32m      1\u001b[0m \u001b[0;32mfor\u001b[0m \u001b[0mindex\u001b[0m\u001b[0;34m,\u001b[0m \u001b[0mrow\u001b[0m \u001b[0;32min\u001b[0m \u001b[0mmetadatos_1\u001b[0m\u001b[0;34m.\u001b[0m\u001b[0miterrows\u001b[0m\u001b[0;34m(\u001b[0m\u001b[0;34m)\u001b[0m\u001b[0;34m:\u001b[0m\u001b[0;34m\u001b[0m\u001b[0;34m\u001b[0m\u001b[0m\n\u001b[0;32m----> 2\u001b[0;31m     \u001b[0mmy_item\u001b[0m \u001b[0;34m=\u001b[0m \u001b[0mgis\u001b[0m\u001b[0;34m.\u001b[0m\u001b[0mcontent\u001b[0m\u001b[0;34m.\u001b[0m\u001b[0mget\u001b[0m\u001b[0;34m(\u001b[0m\u001b[0mrow\u001b[0m\u001b[0;34m[\u001b[0m\u001b[0;34m\"item_id\"\u001b[0m\u001b[0;34m]\u001b[0m\u001b[0;34m)\u001b[0m\u001b[0;34m\u001b[0m\u001b[0;34m\u001b[0m\u001b[0m\n\u001b[0m\u001b[1;32m      3\u001b[0m     item_properties = {'description' : {row['Descripción']},\n\u001b[1;32m      4\u001b[0m                        \u001b[0;34m'licenseInfo'\u001b[0m \u001b[0;34m:\u001b[0m \u001b[0;34m{\u001b[0m\u001b[0mrow\u001b[0m\u001b[0;34m[\u001b[0m\u001b[0;34m'Créditos'\u001b[0m\u001b[0;34m]\u001b[0m\u001b[0;34m}\u001b[0m\u001b[0;34m,\u001b[0m\u001b[0;34m\u001b[0m\u001b[0;34m\u001b[0m\u001b[0m\n\u001b[1;32m      5\u001b[0m                        \u001b[0;34m'accessInformation'\u001b[0m \u001b[0;34m:\u001b[0m \u001b[0;34m{\u001b[0m\u001b[0mrow\u001b[0m\u001b[0;34m[\u001b[0m\u001b[0;34m'Términos de uso'\u001b[0m\u001b[0;34m]\u001b[0m\u001b[0;34m}\u001b[0m\u001b[0;34m,\u001b[0m\u001b[0;34m\u001b[0m\u001b[0;34m\u001b[0m\u001b[0m\n",
      "\u001b[0;32m/opt/homebrew/anaconda3/lib/python3.8/site-packages/arcgis/gis/__init__.py\u001b[0m in \u001b[0;36mget\u001b[0;34m(self, itemid)\u001b[0m\n\u001b[1;32m   5668\u001b[0m                 \u001b[0;32mreturn\u001b[0m \u001b[0;32mNone\u001b[0m\u001b[0;34m\u001b[0m\u001b[0;34m\u001b[0m\u001b[0m\n\u001b[1;32m   5669\u001b[0m             \u001b[0;32melse\u001b[0m\u001b[0;34m:\u001b[0m\u001b[0;34m\u001b[0m\u001b[0;34m\u001b[0m\u001b[0m\n\u001b[0;32m-> 5670\u001b[0;31m                 \u001b[0;32mraise\u001b[0m \u001b[0me\u001b[0m\u001b[0;34m\u001b[0m\u001b[0;34m\u001b[0m\u001b[0m\n\u001b[0m\u001b[1;32m   5671\u001b[0m \u001b[0;34m\u001b[0m\u001b[0m\n\u001b[1;32m   5672\u001b[0m         \u001b[0;32mif\u001b[0m \u001b[0mitem\u001b[0m \u001b[0;32mis\u001b[0m \u001b[0;32mnot\u001b[0m \u001b[0;32mNone\u001b[0m\u001b[0;34m:\u001b[0m\u001b[0;34m\u001b[0m\u001b[0;34m\u001b[0m\u001b[0m\n",
      "\u001b[0;32m/opt/homebrew/anaconda3/lib/python3.8/site-packages/arcgis/gis/__init__.py\u001b[0m in \u001b[0;36mget\u001b[0;34m(self, itemid)\u001b[0m\n\u001b[1;32m   5658\u001b[0m         \"\"\"\n\u001b[1;32m   5659\u001b[0m         \u001b[0;32mtry\u001b[0m\u001b[0;34m:\u001b[0m\u001b[0;34m\u001b[0m\u001b[0;34m\u001b[0m\u001b[0m\n\u001b[0;32m-> 5660\u001b[0;31m             \u001b[0mitem\u001b[0m \u001b[0;34m=\u001b[0m \u001b[0mself\u001b[0m\u001b[0;34m.\u001b[0m\u001b[0m_portal\u001b[0m\u001b[0;34m.\u001b[0m\u001b[0mget_item\u001b[0m\u001b[0;34m(\u001b[0m\u001b[0mitemid\u001b[0m\u001b[0;34m)\u001b[0m\u001b[0;34m\u001b[0m\u001b[0;34m\u001b[0m\u001b[0m\n\u001b[0m\u001b[1;32m   5661\u001b[0m         \u001b[0;32mexcept\u001b[0m \u001b[0mRuntimeError\u001b[0m \u001b[0;32mas\u001b[0m \u001b[0mre\u001b[0m\u001b[0;34m:\u001b[0m\u001b[0;34m\u001b[0m\u001b[0;34m\u001b[0m\u001b[0m\n\u001b[1;32m   5662\u001b[0m             \u001b[0;32mif\u001b[0m \u001b[0mre\u001b[0m\u001b[0;34m.\u001b[0m\u001b[0margs\u001b[0m\u001b[0;34m[\u001b[0m\u001b[0;36m0\u001b[0m\u001b[0;34m]\u001b[0m\u001b[0;34m.\u001b[0m\u001b[0m__contains__\u001b[0m\u001b[0;34m(\u001b[0m\u001b[0;34m\"Item does not exist or is inaccessible\"\u001b[0m\u001b[0;34m)\u001b[0m\u001b[0;34m:\u001b[0m\u001b[0;34m\u001b[0m\u001b[0;34m\u001b[0m\u001b[0m\n",
      "\u001b[0;32m/opt/homebrew/anaconda3/lib/python3.8/site-packages/arcgis/gis/_impl/_portalpy.py\u001b[0m in \u001b[0;36mget_item\u001b[0;34m(self, itemid)\u001b[0m\n\u001b[1;32m   1383\u001b[0m             \u001b[0;34m==\u001b[0m\u001b[0;34m==\u001b[0m\u001b[0;34m==\u001b[0m\u001b[0;34m==\u001b[0m\u001b[0;34m==\u001b[0m\u001b[0;34m==\u001b[0m\u001b[0;34m==\u001b[0m\u001b[0;34m==\u001b[0m  \u001b[0;34m==\u001b[0m\u001b[0;34m==\u001b[0m\u001b[0;34m==\u001b[0m\u001b[0;34m==\u001b[0m\u001b[0;34m==\u001b[0m\u001b[0;34m==\u001b[0m\u001b[0;34m==\u001b[0m\u001b[0;34m==\u001b[0m\u001b[0;34m==\u001b[0m\u001b[0;34m==\u001b[0m\u001b[0;34m==\u001b[0m\u001b[0;34m==\u001b[0m\u001b[0;34m==\u001b[0m\u001b[0;34m==\u001b[0m\u001b[0;34m==\u001b[0m\u001b[0;34m==\u001b[0m\u001b[0;34m==\u001b[0m\u001b[0;34m==\u001b[0m\u001b[0;34m==\u001b[0m\u001b[0;34m==\u001b[0m\u001b[0;34m==\u001b[0m\u001b[0;34m==\u001b[0m\u001b[0;34m==\u001b[0m\u001b[0;34m==\u001b[0m\u001b[0;34m==\u001b[0m\u001b[0;34m==\u001b[0m\u001b[0;34m==\u001b[0m\u001b[0;34m==\u001b[0m\u001b[0;34m\u001b[0m\u001b[0;34m\u001b[0m\u001b[0m\n\u001b[1;32m   1384\u001b[0m         \"\"\"\n\u001b[0;32m-> 1385\u001b[0;31m         \u001b[0;32mreturn\u001b[0m \u001b[0mself\u001b[0m\u001b[0;34m.\u001b[0m\u001b[0mcon\u001b[0m\u001b[0;34m.\u001b[0m\u001b[0mpost\u001b[0m\u001b[0;34m(\u001b[0m\u001b[0;34m\"content/items/\"\u001b[0m \u001b[0;34m+\u001b[0m \u001b[0mitemid\u001b[0m\u001b[0;34m,\u001b[0m \u001b[0mself\u001b[0m\u001b[0;34m.\u001b[0m\u001b[0m_postdata\u001b[0m\u001b[0;34m(\u001b[0m\u001b[0;34m)\u001b[0m\u001b[0;34m)\u001b[0m\u001b[0;34m\u001b[0m\u001b[0;34m\u001b[0m\u001b[0m\n\u001b[0m\u001b[1;32m   1386\u001b[0m \u001b[0;34m\u001b[0m\u001b[0m\n\u001b[1;32m   1387\u001b[0m     \u001b[0;32mdef\u001b[0m \u001b[0mget_item_data\u001b[0m\u001b[0;34m(\u001b[0m\u001b[0mself\u001b[0m\u001b[0;34m,\u001b[0m \u001b[0mitemid\u001b[0m\u001b[0;34m,\u001b[0m \u001b[0mtry_json\u001b[0m\u001b[0;34m=\u001b[0m\u001b[0;32mTrue\u001b[0m\u001b[0;34m,\u001b[0m \u001b[0mfolder\u001b[0m\u001b[0;34m=\u001b[0m\u001b[0;32mNone\u001b[0m\u001b[0;34m)\u001b[0m\u001b[0;34m:\u001b[0m\u001b[0;34m\u001b[0m\u001b[0;34m\u001b[0m\u001b[0m\n",
      "\u001b[0;31mTypeError\u001b[0m: can only concatenate str (not \"float\") to str"
     ]
    }
   ],
   "source": [
    "for index, row in metadatos_1.iterrows():\n",
    "    my_item = gis.content.get(row[\"item_id\"])\n",
    "    item_properties = {'description' : {row['Descripción']},\n",
    "                       'accessInformation' : {row['Créditos']},\n",
    "                       'licenseInfo' : {row['Términos de uso']},\n",
    "                       'title' : {row['Nombre de la capa']}\n",
    "                      }\n",
    "    my_item.update(item_properties)"
   ]
  },
  {
   "cell_type": "markdown",
   "id": "89156a92-6434-41ea-90bd-c42fe4b8c28c",
   "metadata": {},
   "source": [
    "## Arreglando el estilo de las urls en los créditos\n",
    "Usar la propiedad de la primera lámina que se ve bien. \n",
    "`accessInformation` y `licenseInfo` estaban invertidas.\n",
    "El error en la última linea de la tabla es porque se trata del servicio con todas las laminas a la vez."
   ]
  },
  {
   "cell_type": "code",
   "execution_count": 97,
   "id": "73f1eaa1-0aa5-4ce4-831d-fb7fc62c90ef",
   "metadata": {},
   "outputs": [
    {
     "ename": "TypeError",
     "evalue": "can only concatenate str (not \"float\") to str",
     "output_type": "error",
     "traceback": [
      "\u001b[0;31m---------------------------------------------------------------------------\u001b[0m",
      "\u001b[0;31mTypeError\u001b[0m                                 Traceback (most recent call last)",
      "\u001b[0;32m<ipython-input-97-f5692cce922f>\u001b[0m in \u001b[0;36m<module>\u001b[0;34m\u001b[0m\n\u001b[1;32m      1\u001b[0m \u001b[0;32mfor\u001b[0m \u001b[0mindex\u001b[0m\u001b[0;34m,\u001b[0m \u001b[0mrow\u001b[0m \u001b[0;32min\u001b[0m \u001b[0mmetadatos_1\u001b[0m\u001b[0;34m.\u001b[0m\u001b[0miterrows\u001b[0m\u001b[0;34m(\u001b[0m\u001b[0;34m)\u001b[0m\u001b[0;34m:\u001b[0m\u001b[0;34m\u001b[0m\u001b[0;34m\u001b[0m\u001b[0m\n\u001b[0;32m----> 2\u001b[0;31m     \u001b[0mmy_item\u001b[0m \u001b[0;34m=\u001b[0m \u001b[0mgis\u001b[0m\u001b[0;34m.\u001b[0m\u001b[0mcontent\u001b[0m\u001b[0;34m.\u001b[0m\u001b[0mget\u001b[0m\u001b[0;34m(\u001b[0m\u001b[0mrow\u001b[0m\u001b[0;34m[\u001b[0m\u001b[0;34m\"item_id\"\u001b[0m\u001b[0;34m]\u001b[0m\u001b[0;34m)\u001b[0m\u001b[0;34m\u001b[0m\u001b[0;34m\u001b[0m\u001b[0m\n\u001b[0m\u001b[1;32m      3\u001b[0m     item_properties = {'accessInformation' : {row['Créditos']},\n\u001b[1;32m      4\u001b[0m                        \u001b[0;34m'licenseInfo'\u001b[0m \u001b[0;34m:\u001b[0m \u001b[0;34m{\u001b[0m\u001b[0mrow\u001b[0m\u001b[0;34m[\u001b[0m\u001b[0;34m'Términos de uso'\u001b[0m\u001b[0;34m]\u001b[0m\u001b[0;34m}\u001b[0m\u001b[0;34m,\u001b[0m\u001b[0;34m\u001b[0m\u001b[0;34m\u001b[0m\u001b[0m\n\u001b[1;32m      5\u001b[0m                       }\n",
      "\u001b[0;32m/opt/homebrew/anaconda3/lib/python3.8/site-packages/arcgis/gis/__init__.py\u001b[0m in \u001b[0;36mget\u001b[0;34m(self, itemid)\u001b[0m\n\u001b[1;32m   5668\u001b[0m                 \u001b[0;32mreturn\u001b[0m \u001b[0;32mNone\u001b[0m\u001b[0;34m\u001b[0m\u001b[0;34m\u001b[0m\u001b[0m\n\u001b[1;32m   5669\u001b[0m             \u001b[0;32melse\u001b[0m\u001b[0;34m:\u001b[0m\u001b[0;34m\u001b[0m\u001b[0;34m\u001b[0m\u001b[0m\n\u001b[0;32m-> 5670\u001b[0;31m                 \u001b[0;32mraise\u001b[0m \u001b[0me\u001b[0m\u001b[0;34m\u001b[0m\u001b[0;34m\u001b[0m\u001b[0m\n\u001b[0m\u001b[1;32m   5671\u001b[0m \u001b[0;34m\u001b[0m\u001b[0m\n\u001b[1;32m   5672\u001b[0m         \u001b[0;32mif\u001b[0m \u001b[0mitem\u001b[0m \u001b[0;32mis\u001b[0m \u001b[0;32mnot\u001b[0m \u001b[0;32mNone\u001b[0m\u001b[0;34m:\u001b[0m\u001b[0;34m\u001b[0m\u001b[0;34m\u001b[0m\u001b[0m\n",
      "\u001b[0;32m/opt/homebrew/anaconda3/lib/python3.8/site-packages/arcgis/gis/__init__.py\u001b[0m in \u001b[0;36mget\u001b[0;34m(self, itemid)\u001b[0m\n\u001b[1;32m   5658\u001b[0m         \"\"\"\n\u001b[1;32m   5659\u001b[0m         \u001b[0;32mtry\u001b[0m\u001b[0;34m:\u001b[0m\u001b[0;34m\u001b[0m\u001b[0;34m\u001b[0m\u001b[0m\n\u001b[0;32m-> 5660\u001b[0;31m             \u001b[0mitem\u001b[0m \u001b[0;34m=\u001b[0m \u001b[0mself\u001b[0m\u001b[0;34m.\u001b[0m\u001b[0m_portal\u001b[0m\u001b[0;34m.\u001b[0m\u001b[0mget_item\u001b[0m\u001b[0;34m(\u001b[0m\u001b[0mitemid\u001b[0m\u001b[0;34m)\u001b[0m\u001b[0;34m\u001b[0m\u001b[0;34m\u001b[0m\u001b[0m\n\u001b[0m\u001b[1;32m   5661\u001b[0m         \u001b[0;32mexcept\u001b[0m \u001b[0mRuntimeError\u001b[0m \u001b[0;32mas\u001b[0m \u001b[0mre\u001b[0m\u001b[0;34m:\u001b[0m\u001b[0;34m\u001b[0m\u001b[0;34m\u001b[0m\u001b[0m\n\u001b[1;32m   5662\u001b[0m             \u001b[0;32mif\u001b[0m \u001b[0mre\u001b[0m\u001b[0;34m.\u001b[0m\u001b[0margs\u001b[0m\u001b[0;34m[\u001b[0m\u001b[0;36m0\u001b[0m\u001b[0;34m]\u001b[0m\u001b[0;34m.\u001b[0m\u001b[0m__contains__\u001b[0m\u001b[0;34m(\u001b[0m\u001b[0;34m\"Item does not exist or is inaccessible\"\u001b[0m\u001b[0;34m)\u001b[0m\u001b[0;34m:\u001b[0m\u001b[0;34m\u001b[0m\u001b[0;34m\u001b[0m\u001b[0m\n",
      "\u001b[0;32m/opt/homebrew/anaconda3/lib/python3.8/site-packages/arcgis/gis/_impl/_portalpy.py\u001b[0m in \u001b[0;36mget_item\u001b[0;34m(self, itemid)\u001b[0m\n\u001b[1;32m   1383\u001b[0m             \u001b[0;34m==\u001b[0m\u001b[0;34m==\u001b[0m\u001b[0;34m==\u001b[0m\u001b[0;34m==\u001b[0m\u001b[0;34m==\u001b[0m\u001b[0;34m==\u001b[0m\u001b[0;34m==\u001b[0m\u001b[0;34m==\u001b[0m  \u001b[0;34m==\u001b[0m\u001b[0;34m==\u001b[0m\u001b[0;34m==\u001b[0m\u001b[0;34m==\u001b[0m\u001b[0;34m==\u001b[0m\u001b[0;34m==\u001b[0m\u001b[0;34m==\u001b[0m\u001b[0;34m==\u001b[0m\u001b[0;34m==\u001b[0m\u001b[0;34m==\u001b[0m\u001b[0;34m==\u001b[0m\u001b[0;34m==\u001b[0m\u001b[0;34m==\u001b[0m\u001b[0;34m==\u001b[0m\u001b[0;34m==\u001b[0m\u001b[0;34m==\u001b[0m\u001b[0;34m==\u001b[0m\u001b[0;34m==\u001b[0m\u001b[0;34m==\u001b[0m\u001b[0;34m==\u001b[0m\u001b[0;34m==\u001b[0m\u001b[0;34m==\u001b[0m\u001b[0;34m==\u001b[0m\u001b[0;34m==\u001b[0m\u001b[0;34m==\u001b[0m\u001b[0;34m==\u001b[0m\u001b[0;34m==\u001b[0m\u001b[0;34m==\u001b[0m\u001b[0;34m\u001b[0m\u001b[0;34m\u001b[0m\u001b[0m\n\u001b[1;32m   1384\u001b[0m         \"\"\"\n\u001b[0;32m-> 1385\u001b[0;31m         \u001b[0;32mreturn\u001b[0m \u001b[0mself\u001b[0m\u001b[0;34m.\u001b[0m\u001b[0mcon\u001b[0m\u001b[0;34m.\u001b[0m\u001b[0mpost\u001b[0m\u001b[0;34m(\u001b[0m\u001b[0;34m\"content/items/\"\u001b[0m \u001b[0;34m+\u001b[0m \u001b[0mitemid\u001b[0m\u001b[0;34m,\u001b[0m \u001b[0mself\u001b[0m\u001b[0;34m.\u001b[0m\u001b[0m_postdata\u001b[0m\u001b[0;34m(\u001b[0m\u001b[0;34m)\u001b[0m\u001b[0;34m)\u001b[0m\u001b[0;34m\u001b[0m\u001b[0;34m\u001b[0m\u001b[0m\n\u001b[0m\u001b[1;32m   1386\u001b[0m \u001b[0;34m\u001b[0m\u001b[0m\n\u001b[1;32m   1387\u001b[0m     \u001b[0;32mdef\u001b[0m \u001b[0mget_item_data\u001b[0m\u001b[0;34m(\u001b[0m\u001b[0mself\u001b[0m\u001b[0;34m,\u001b[0m \u001b[0mitemid\u001b[0m\u001b[0;34m,\u001b[0m \u001b[0mtry_json\u001b[0m\u001b[0;34m=\u001b[0m\u001b[0;32mTrue\u001b[0m\u001b[0;34m,\u001b[0m \u001b[0mfolder\u001b[0m\u001b[0;34m=\u001b[0m\u001b[0;32mNone\u001b[0m\u001b[0;34m)\u001b[0m\u001b[0;34m:\u001b[0m\u001b[0;34m\u001b[0m\u001b[0;34m\u001b[0m\u001b[0m\n",
      "\u001b[0;31mTypeError\u001b[0m: can only concatenate str (not \"float\") to str"
     ]
    }
   ],
   "source": [
    "for index, row in metadatos_1.iterrows():\n",
    "    my_item = gis.content.get(row[\"item_id\"])\n",
    "    item_properties = {'accessInformation' : {row['Créditos']},\n",
    "                       'licenseInfo' : {row['Términos de uso']},\n",
    "                      }\n",
    "    my_item.update(item_properties)"
   ]
  },
  {
   "cell_type": "code",
   "execution_count": null,
   "id": "a74f509d-8290-4b76-b3a9-50f0e7d9b11d",
   "metadata": {},
   "outputs": [],
   "source": []
  }
 ],
 "metadata": {
  "kernelspec": {
   "display_name": "Python 3",
   "language": "python",
   "name": "python3"
  },
  "language_info": {
   "codemirror_mode": {
    "name": "ipython",
    "version": 3
   },
   "file_extension": ".py",
   "mimetype": "text/x-python",
   "name": "python",
   "nbconvert_exporter": "python",
   "pygments_lexer": "ipython3",
   "version": "3.8.8"
  }
 },
 "nbformat": 4,
 "nbformat_minor": 5
}
